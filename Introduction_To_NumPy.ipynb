{
 "cells": [
  {
   "cell_type": "code",
   "execution_count": 1,
   "id": "1b4daf7a-7c10-4656-af26-01de69a1a780",
   "metadata": {},
   "outputs": [],
   "source": [
    "import numpy as np"
   ]
  },
  {
   "cell_type": "markdown",
   "id": "00b19af2-3a3d-4ce2-96d4-e11be8e4fdf6",
   "metadata": {},
   "source": [
    "## Array Fundamentals"
   ]
  },
  {
   "cell_type": "markdown",
   "id": "628f4078-a422-47f1-9199-7fd244571a9b",
   "metadata": {},
   "source": [
    "**Create a new list**"
   ]
  },
  {
   "cell_type": "code",
   "execution_count": 2,
   "id": "722cbe4e-e617-4487-9ebc-d81db879c612",
   "metadata": {},
   "outputs": [
    {
     "data": {
      "text/plain": [
       "[1, 2, 3, 4, 5]"
      ]
     },
     "execution_count": 2,
     "metadata": {},
     "output_type": "execute_result"
    }
   ],
   "source": [
    "my_list = [1, 2, 3, 4, 5]\n",
    "my_list"
   ]
  },
  {
   "cell_type": "code",
   "execution_count": 3,
   "id": "3a4cde2b-6fbb-4e69-a2a8-e12e9459eb7a",
   "metadata": {},
   "outputs": [
    {
     "data": {
      "text/plain": [
       "list"
      ]
     },
     "execution_count": 3,
     "metadata": {},
     "output_type": "execute_result"
    }
   ],
   "source": [
    "type(my_list)"
   ]
  },
  {
   "cell_type": "markdown",
   "id": "f7c619bf-5403-409a-b43c-a658642dac6d",
   "metadata": {},
   "source": [
    "**Create an ndarray using list**"
   ]
  },
  {
   "cell_type": "code",
   "execution_count": 4,
   "id": "bff4a10d-f1e5-4ded-a102-f1f96a7f6db2",
   "metadata": {},
   "outputs": [
    {
     "data": {
      "text/plain": [
       "array([1, 2, 3, 4, 5])"
      ]
     },
     "execution_count": 4,
     "metadata": {},
     "output_type": "execute_result"
    }
   ],
   "source": [
    "my_array = np.array(my_list)\n",
    "my_array"
   ]
  },
  {
   "cell_type": "code",
   "execution_count": 5,
   "id": "24682369-6a2e-4a85-99bc-bc086a171172",
   "metadata": {},
   "outputs": [
    {
     "data": {
      "text/plain": [
       "numpy.ndarray"
      ]
     },
     "execution_count": 5,
     "metadata": {},
     "output_type": "execute_result"
    }
   ],
   "source": [
    "type(my_array)"
   ]
  },
  {
   "cell_type": "markdown",
   "id": "8a2ea3ba-3893-4e2d-93b0-afd45ee8c35b",
   "metadata": {},
   "source": [
    "**Access array elements**"
   ]
  },
  {
   "cell_type": "code",
   "execution_count": 6,
   "id": "85be0feb-4564-4436-b79c-e8363733e28e",
   "metadata": {},
   "outputs": [
    {
     "data": {
      "text/plain": [
       "2"
      ]
     },
     "execution_count": 6,
     "metadata": {},
     "output_type": "execute_result"
    }
   ],
   "source": [
    "my_array[1]"
   ]
  },
  {
   "cell_type": "markdown",
   "id": "436fde71-cd49-4957-89fa-4d8641e22849",
   "metadata": {},
   "source": [
    "**ndarray is mutable, same as list**"
   ]
  },
  {
   "cell_type": "code",
   "execution_count": 7,
   "id": "4fbe6ae3-4091-4e9d-b078-97726962fce0",
   "metadata": {},
   "outputs": [
    {
     "data": {
      "text/plain": [
       "array([  1,   2, 100,   4,   5])"
      ]
     },
     "execution_count": 7,
     "metadata": {},
     "output_type": "execute_result"
    }
   ],
   "source": [
    "my_array[2] = 100\n",
    "my_array"
   ]
  },
  {
   "cell_type": "markdown",
   "id": "d34c8c6f-23b6-48ff-946c-f8abb4d63883",
   "metadata": {},
   "source": [
    "**like the original list, Python slice notation can be used for indexing**"
   ]
  },
  {
   "cell_type": "code",
   "execution_count": 8,
   "id": "9b6e9acf-5605-45f4-bc05-602206ed75c0",
   "metadata": {},
   "outputs": [
    {
     "data": {
      "text/plain": [
       "array([  1,   2, 100])"
      ]
     },
     "execution_count": 8,
     "metadata": {},
     "output_type": "execute_result"
    }
   ],
   "source": [
    "my_array[:3]"
   ]
  },
  {
   "cell_type": "markdown",
   "id": "18f9d7c5-2bac-4410-9f00-90df0c7a5167",
   "metadata": {},
   "source": [
    "**One major difference is that slice indexing of a list \"copies\" the elements into a new list,**"
   ]
  },
  {
   "cell_type": "markdown",
   "id": "4897be93-7c43-4bce-b6f8-42a5413b4bd0",
   "metadata": {},
   "source": [
    "**but slicing an array returns a \"view\": an object that refers to the data in the original array.** "
   ]
  },
  {
   "cell_type": "markdown",
   "id": "f2528b5b-a121-4bbb-b789-54b0e4c0d20c",
   "metadata": {},
   "source": [
    "**The original array can be mutated using the view.**"
   ]
  },
  {
   "cell_type": "code",
   "execution_count": 9,
   "id": "df284164-2fbc-462a-85da-efb6569f12a8",
   "metadata": {},
   "outputs": [
    {
     "data": {
      "text/plain": [
       "array([4, 5])"
      ]
     },
     "execution_count": 9,
     "metadata": {},
     "output_type": "execute_result"
    }
   ],
   "source": [
    "array2 = my_array[3:]\n",
    "array2"
   ]
  },
  {
   "cell_type": "code",
   "execution_count": 10,
   "id": "b26da7dd-c88a-46d7-9257-7b45100914a0",
   "metadata": {},
   "outputs": [
    {
     "data": {
      "text/plain": [
       "array([200,   5])"
      ]
     },
     "execution_count": 10,
     "metadata": {},
     "output_type": "execute_result"
    }
   ],
   "source": [
    "array2[0] = 200\n",
    "array2"
   ]
  },
  {
   "cell_type": "markdown",
   "id": "13b15000-40f7-4d58-992c-1fde3adb9b36",
   "metadata": {},
   "source": [
    "**original array also gets modified**"
   ]
  },
  {
   "cell_type": "code",
   "execution_count": 11,
   "id": "ab79606e-cbed-463a-91d1-4ce8146da00e",
   "metadata": {},
   "outputs": [
    {
     "data": {
      "text/plain": [
       "array([  1,   2, 100, 200,   5])"
      ]
     },
     "execution_count": 11,
     "metadata": {},
     "output_type": "execute_result"
    }
   ],
   "source": [
    "my_array"
   ]
  },
  {
   "cell_type": "markdown",
   "id": "4a63536d-e7dc-4844-8595-e83a8b4f2d97",
   "metadata": {},
   "source": [
    "**2D list**"
   ]
  },
  {
   "cell_type": "code",
   "execution_count": 12,
   "id": "7b0b4e03-8c51-49a6-9da7-4531e84f7dfa",
   "metadata": {},
   "outputs": [
    {
     "data": {
      "text/plain": [
       "[[1, 2, 3, 4], [5, 6, 7, 8], [9, 10, 11, 12]]"
      ]
     },
     "execution_count": 12,
     "metadata": {},
     "output_type": "execute_result"
    }
   ],
   "source": [
    "my_list_2d = [[1,2,3,4], [5,6,7,8], [9,10,11,12]]\n",
    "my_list_2d"
   ]
  },
  {
   "cell_type": "markdown",
   "id": "135b632d-d519-4dd2-9553-8640262e32ca",
   "metadata": {},
   "source": [
    "**2D ndarray**"
   ]
  },
  {
   "cell_type": "code",
   "execution_count": 13,
   "id": "0d54cf8c-eee3-4c32-bae3-aad75b51bf6a",
   "metadata": {},
   "outputs": [
    {
     "data": {
      "text/plain": [
       "array([[ 1,  2,  3,  4],\n",
       "       [ 5,  6,  7,  8],\n",
       "       [ 9, 10, 11, 12]])"
      ]
     },
     "execution_count": 13,
     "metadata": {},
     "output_type": "execute_result"
    }
   ],
   "source": [
    "my_array_2d = np.array(my_list_2d)\n",
    "my_array_2d"
   ]
  },
  {
   "cell_type": "markdown",
   "id": "f30ccf1e-fc00-48f7-b5e2-91c4c77e50ad",
   "metadata": {},
   "source": [
    "**list of lists elements can be accessed by specifying indices using 2 square brackets.**"
   ]
  },
  {
   "cell_type": "code",
   "execution_count": 14,
   "id": "aac68e14-ad11-4e07-ba86-fd9bddeb4482",
   "metadata": {},
   "outputs": [],
   "source": [
    "# my_list_2d[1,3]"
   ]
  },
  {
   "cell_type": "code",
   "execution_count": 15,
   "id": "ef9e250d-8537-4fb8-8606-b2dfd431bab4",
   "metadata": {},
   "outputs": [
    {
     "data": {
      "text/plain": [
       "8"
      ]
     },
     "execution_count": 15,
     "metadata": {},
     "output_type": "execute_result"
    }
   ],
   "source": [
    "my_list_2d[1][3]"
   ]
  },
  {
   "cell_type": "markdown",
   "id": "20317337-2885-41d0-8595-68192a315fd5",
   "metadata": {},
   "source": [
    "**Difference between an array and a list of lists is that an element of the array can be accessed**"
   ]
  },
  {
   "cell_type": "markdown",
   "id": "9bab8c48-29fd-482f-8996-01de7ec4d2fb",
   "metadata": {},
   "source": [
    "**by specifying the index along each axis within a single set of square brackets, separated by commas.**"
   ]
  },
  {
   "cell_type": "markdown",
   "id": "86183784-20ac-4d40-b7a5-920d8fb7c9a9",
   "metadata": {},
   "source": [
    "**For instance, the element 8 is in row 1 and column 3:**"
   ]
  },
  {
   "cell_type": "code",
   "execution_count": 16,
   "id": "07f54eae-586f-4d06-bc55-104344dbc4ac",
   "metadata": {},
   "outputs": [
    {
     "data": {
      "text/plain": [
       "8"
      ]
     },
     "execution_count": 16,
     "metadata": {},
     "output_type": "execute_result"
    }
   ],
   "source": [
    "my_array_2d[1, 3]"
   ]
  },
  {
   "cell_type": "markdown",
   "id": "ca2928cd-ba5c-40c6-938f-ae2adba8140a",
   "metadata": {},
   "source": [
    "**We might hear of a 0-D (zero-dimensional) array referred to as a “scalar”,**"
   ]
  },
  {
   "cell_type": "markdown",
   "id": "c7ca6004-c988-4fde-995a-1073f00733ef",
   "metadata": {},
   "source": [
    "**a 1-D (one-dimensional) array as a “vector”,**"
   ]
  },
  {
   "cell_type": "markdown",
   "id": "15caf1f8-c019-443f-9d38-1a62b0f7b013",
   "metadata": {},
   "source": [
    "**a 2-D (two-dimensional) array as a “matrix”,**"
   ]
  },
  {
   "cell_type": "markdown",
   "id": "3958d970-186c-4774-8b19-ba324e32ef78",
   "metadata": {},
   "source": [
    "**or an N-D (N-dimensional, where “N” is typically an integer greater than 2) array as a “tensor”.**"
   ]
  },
  {
   "cell_type": "markdown",
   "id": "187cf396-d758-477d-bf19-8e572a548558",
   "metadata": {},
   "source": [
    "**For clarity, it is best to avoid the mathematical terms when referring to an array**"
   ]
  },
  {
   "cell_type": "markdown",
   "id": "196c799f-4901-4428-a447-7ac685e88dfd",
   "metadata": {},
   "source": [
    "**because the mathematical objects with these names behave differently than arrays**"
   ]
  },
  {
   "cell_type": "markdown",
   "id": "5bae395b-5545-4fc0-af24-e51c55d8efc7",
   "metadata": {},
   "source": [
    "**(e.g. “matrix” multiplication is fundamentally different from “array” multiplication),**"
   ]
  },
  {
   "cell_type": "markdown",
   "id": "20e0cd9d-89d6-4955-bcdd-f893fe98f6cf",
   "metadata": {},
   "source": [
    "**and there are other objects in the scientific Python ecosystem that have these names**"
   ]
  },
  {
   "cell_type": "markdown",
   "id": "2e7e71d1-ed80-4da8-bbc9-5f30c2a76cb3",
   "metadata": {},
   "source": [
    "**(e.g. the fundamental data structure of PyTorch is the “tensor”).**"
   ]
  },
  {
   "cell_type": "markdown",
   "id": "c91b3148-e854-44be-a29b-bd45038d72e1",
   "metadata": {},
   "source": [
    "## Array attributes"
   ]
  },
  {
   "cell_type": "markdown",
   "id": "5a2207a3-25bf-449c-bb09-8c88d50f1ca1",
   "metadata": {},
   "source": [
    "**lets discuss about array attributes: ndim, shape, size, dtype**"
   ]
  },
  {
   "cell_type": "markdown",
   "id": "3e825bd1-64cd-4d82-a2bf-15da23875d58",
   "metadata": {},
   "source": [
    "### ndim"
   ]
  },
  {
   "cell_type": "markdown",
   "id": "ffa67923-a1a7-4f4f-99ae-1ea1275da27a",
   "metadata": {},
   "source": [
    "**The number of dimensions of an array is contained in the ndim attribute.**"
   ]
  },
  {
   "cell_type": "code",
   "execution_count": 17,
   "id": "fca3871a-9002-4904-869b-2825335c3048",
   "metadata": {},
   "outputs": [
    {
     "data": {
      "text/plain": [
       "2"
      ]
     },
     "execution_count": 17,
     "metadata": {},
     "output_type": "execute_result"
    }
   ],
   "source": [
    "my_array_2d.ndim"
   ]
  },
  {
   "cell_type": "code",
   "execution_count": 18,
   "id": "7e117966-a8eb-4fdf-bfb7-8bf38d72c5f5",
   "metadata": {},
   "outputs": [
    {
     "data": {
      "text/plain": [
       "1"
      ]
     },
     "execution_count": 18,
     "metadata": {},
     "output_type": "execute_result"
    }
   ],
   "source": [
    "my_array.ndim"
   ]
  },
  {
   "cell_type": "markdown",
   "id": "b395f54e-0fc3-453c-9f9d-da4d80e6a6a9",
   "metadata": {},
   "source": [
    "### shape"
   ]
  },
  {
   "cell_type": "markdown",
   "id": "70cf1e96-25ac-4d29-a0b7-cbbaae133dce",
   "metadata": {},
   "source": [
    "**The shape of an array is a tuple of non-negative integers that specify the number of elements along each dimension.**"
   ]
  },
  {
   "cell_type": "code",
   "execution_count": 19,
   "id": "39186a5c-116e-4411-9696-1e77369de391",
   "metadata": {},
   "outputs": [
    {
     "data": {
      "text/plain": [
       "(3, 4)"
      ]
     },
     "execution_count": 19,
     "metadata": {},
     "output_type": "execute_result"
    }
   ],
   "source": [
    "my_array_2d.shape"
   ]
  },
  {
   "cell_type": "code",
   "execution_count": 20,
   "id": "92e694a8-ad5e-47b6-ba40-8971f6f662dd",
   "metadata": {},
   "outputs": [
    {
     "data": {
      "text/plain": [
       "(5,)"
      ]
     },
     "execution_count": 20,
     "metadata": {},
     "output_type": "execute_result"
    }
   ],
   "source": [
    "my_array.shape"
   ]
  },
  {
   "cell_type": "code",
   "execution_count": 21,
   "id": "27f2454e-4517-480f-8dca-8f96bbdc7abc",
   "metadata": {},
   "outputs": [
    {
     "data": {
      "text/plain": [
       "True"
      ]
     },
     "execution_count": 21,
     "metadata": {},
     "output_type": "execute_result"
    }
   ],
   "source": [
    "len(my_array_2d.shape) == my_array_2d.ndim"
   ]
  },
  {
   "cell_type": "code",
   "execution_count": 22,
   "id": "55991ace-1f72-494e-a311-d099a1cd24fb",
   "metadata": {},
   "outputs": [
    {
     "data": {
      "text/plain": [
       "True"
      ]
     },
     "execution_count": 22,
     "metadata": {},
     "output_type": "execute_result"
    }
   ],
   "source": [
    "len(my_array.shape) == my_array.ndim"
   ]
  },
  {
   "cell_type": "markdown",
   "id": "b836fd4c-5127-4526-8573-dc930afa6e97",
   "metadata": {},
   "source": [
    "### size"
   ]
  },
  {
   "cell_type": "markdown",
   "id": "c791103b-e99b-42aa-8773-85b6206c340e",
   "metadata": {},
   "source": [
    "**The fixed, total number of elements in array is contained in the size attribute.**"
   ]
  },
  {
   "cell_type": "code",
   "execution_count": 23,
   "id": "f74f7214-ffaf-4d98-95b7-395e5e847f58",
   "metadata": {},
   "outputs": [
    {
     "data": {
      "text/plain": [
       "12"
      ]
     },
     "execution_count": 23,
     "metadata": {},
     "output_type": "execute_result"
    }
   ],
   "source": [
    "my_array_2d.size"
   ]
  },
  {
   "cell_type": "code",
   "execution_count": 24,
   "id": "624dc8bb-2ce3-4e37-9bdc-569292bbda66",
   "metadata": {},
   "outputs": [
    {
     "data": {
      "text/plain": [
       "5"
      ]
     },
     "execution_count": 24,
     "metadata": {},
     "output_type": "execute_result"
    }
   ],
   "source": [
    "my_array.size"
   ]
  },
  {
   "cell_type": "code",
   "execution_count": 25,
   "id": "1cb9363f-d91f-4fae-96bf-e8bf97fd444a",
   "metadata": {},
   "outputs": [],
   "source": [
    "import math"
   ]
  },
  {
   "cell_type": "code",
   "execution_count": 26,
   "id": "3d2cfbab-156e-4b69-9a26-ba70eb96bea1",
   "metadata": {},
   "outputs": [
    {
     "data": {
      "text/plain": [
       "True"
      ]
     },
     "execution_count": 26,
     "metadata": {},
     "output_type": "execute_result"
    }
   ],
   "source": [
    "my_array_2d.size == math.prod(my_array_2d.shape)"
   ]
  },
  {
   "cell_type": "code",
   "execution_count": 27,
   "id": "3782a244-898e-4f6a-bb09-9dc8b94d8867",
   "metadata": {},
   "outputs": [
    {
     "data": {
      "text/plain": [
       "True"
      ]
     },
     "execution_count": 27,
     "metadata": {},
     "output_type": "execute_result"
    }
   ],
   "source": [
    "my_array.size == math.prod(my_array.shape)"
   ]
  },
  {
   "cell_type": "markdown",
   "id": "ddaf8d27-5c02-48e3-8514-ae6cffb1070c",
   "metadata": {},
   "source": [
    "### dtype"
   ]
  },
  {
   "cell_type": "markdown",
   "id": "77a98456-30f8-4b9a-ac8f-2b5d83ed81bc",
   "metadata": {},
   "source": [
    "**Arrays are typically “homogeneous”, meaning that they contain elements of only one “data type”.**"
   ]
  },
  {
   "cell_type": "markdown",
   "id": "1d475645-6220-4a2d-9437-4274f6dbb964",
   "metadata": {},
   "source": [
    "**The data type is recorded in the dtype attribute.**"
   ]
  },
  {
   "cell_type": "code",
   "execution_count": 28,
   "id": "072b40e4-8e7c-4db7-b58f-87bda4beb42a",
   "metadata": {},
   "outputs": [
    {
     "data": {
      "text/plain": [
       "dtype('int32')"
      ]
     },
     "execution_count": 28,
     "metadata": {},
     "output_type": "execute_result"
    }
   ],
   "source": [
    "my_array_2d.dtype"
   ]
  },
  {
   "cell_type": "code",
   "execution_count": 29,
   "id": "0ff7f9e7-cf70-4a50-95c5-23a5f7c2d120",
   "metadata": {},
   "outputs": [
    {
     "data": {
      "text/plain": [
       "dtype('int32')"
      ]
     },
     "execution_count": 29,
     "metadata": {},
     "output_type": "execute_result"
    }
   ],
   "source": [
    "my_array.dtype"
   ]
  },
  {
   "cell_type": "markdown",
   "id": "1dd468c8-a0a5-47a1-add9-0a8b5f1bf6f1",
   "metadata": {},
   "source": [
    "## Create a basic array"
   ]
  },
  {
   "cell_type": "markdown",
   "id": "87a35958-9065-4fb1-b7b5-b26c3b55d205",
   "metadata": {},
   "source": [
    "**lets discuss about np.zeros(), np.ones(), np.empty(), np.arange(), np.linspace()**"
   ]
  },
  {
   "cell_type": "markdown",
   "id": "a88f1090-320f-4dfa-a07d-81e032ce104e",
   "metadata": {},
   "source": [
    "### np.zeros()"
   ]
  },
  {
   "cell_type": "markdown",
   "id": "96479af7-81e3-4c8c-97cc-48fb02d434c6",
   "metadata": {},
   "source": [
    "**Besides creating an array from a sequence of elements, you can easily create an array filled with 0’s:**"
   ]
  },
  {
   "cell_type": "code",
   "execution_count": 30,
   "id": "45c9d978-5144-4c47-81d1-848ace9074a9",
   "metadata": {},
   "outputs": [
    {
     "data": {
      "text/plain": [
       "array([0., 0., 0.])"
      ]
     },
     "execution_count": 30,
     "metadata": {},
     "output_type": "execute_result"
    }
   ],
   "source": [
    "np.zeros(3)"
   ]
  },
  {
   "cell_type": "markdown",
   "id": "ad3cb939-263d-4065-b576-274698a563c7",
   "metadata": {},
   "source": [
    "### np.ones()"
   ]
  },
  {
   "cell_type": "markdown",
   "id": "fbd93801-7854-4e8c-9e07-e9076f7ea6db",
   "metadata": {},
   "source": [
    "**Besides creating an array from a sequence of elements, you can easily create an array filled with 1’s:**"
   ]
  },
  {
   "cell_type": "code",
   "execution_count": 31,
   "id": "bc0c4918-c6d1-4a8a-aeea-eec1b76a42d3",
   "metadata": {},
   "outputs": [
    {
     "data": {
      "text/plain": [
       "array([1., 1., 1.])"
      ]
     },
     "execution_count": 31,
     "metadata": {},
     "output_type": "execute_result"
    }
   ],
   "source": [
    "np.ones(3)"
   ]
  },
  {
   "cell_type": "markdown",
   "id": "8ce717c5-4d74-45f6-96ba-6d82f9e4360d",
   "metadata": {},
   "source": [
    "### np.empty()"
   ]
  },
  {
   "cell_type": "markdown",
   "id": "ff51d800-a63f-4976-9afc-c2ec528e6338",
   "metadata": {},
   "source": [
    "**The function empty creates an array whose initial content is random and depends on the state of the memory.**"
   ]
  },
  {
   "cell_type": "markdown",
   "id": "a40df68a-e8b3-44d6-9240-8b25512adfe2",
   "metadata": {},
   "source": [
    "**The reason to use empty over zeros (or something similar) is speed - just make sure to fill every element afterwards!**"
   ]
  },
  {
   "cell_type": "code",
   "execution_count": 32,
   "id": "209467d4-b9e6-45ff-a1ff-6842fe44c773",
   "metadata": {},
   "outputs": [
    {
     "data": {
      "text/plain": [
       "array([1., 1., 1.])"
      ]
     },
     "execution_count": 32,
     "metadata": {},
     "output_type": "execute_result"
    }
   ],
   "source": [
    "np.empty(3)"
   ]
  },
  {
   "cell_type": "markdown",
   "id": "7e06e605-5b02-412d-a233-b4c924417031",
   "metadata": {},
   "source": [
    "### np.arange()"
   ]
  },
  {
   "cell_type": "markdown",
   "id": "09fe82e8-fe5b-486e-a6bf-7dbc814e8ab4",
   "metadata": {},
   "source": [
    "**We can create an array with a range of elements:**"
   ]
  },
  {
   "cell_type": "code",
   "execution_count": 33,
   "id": "d874d0ea-4e92-4aed-9c8d-0ba5012e54ba",
   "metadata": {},
   "outputs": [
    {
     "data": {
      "text/plain": [
       "array([0, 1, 2, 3, 4])"
      ]
     },
     "execution_count": 33,
     "metadata": {},
     "output_type": "execute_result"
    }
   ],
   "source": [
    "np.arange(5)"
   ]
  },
  {
   "cell_type": "markdown",
   "id": "53011341-cd99-4a9e-ac43-50078944447e",
   "metadata": {},
   "source": [
    "**And even an array that contains a range of evenly spaced intervals.**"
   ]
  },
  {
   "cell_type": "markdown",
   "id": "f2ba9caa-0521-4eb7-a8ce-446d1a4a71e7",
   "metadata": {},
   "source": [
    "**To do this, we will specify the first number, last number, and the step size.**"
   ]
  },
  {
   "cell_type": "code",
   "execution_count": 34,
   "id": "af6adedd-6aac-4575-b7ee-8186ecdfd0ce",
   "metadata": {},
   "outputs": [
    {
     "data": {
      "text/plain": [
       "array([ 2,  4,  6,  8, 10])"
      ]
     },
     "execution_count": 34,
     "metadata": {},
     "output_type": "execute_result"
    }
   ],
   "source": [
    "np.arange(2, 11, 2)"
   ]
  },
  {
   "cell_type": "markdown",
   "id": "d4a07a4f-dfe6-48ac-9717-4b58c7bf25b8",
   "metadata": {},
   "source": [
    "### np.linspace()"
   ]
  },
  {
   "cell_type": "markdown",
   "id": "c0ddd91e-cdfe-48cd-81be-3e250b6ba4d5",
   "metadata": {},
   "source": [
    "**We can use np.linspace() to create an array with values that are spaced linearly in a specified interval:**"
   ]
  },
  {
   "cell_type": "code",
   "execution_count": 35,
   "id": "5d66f3af-2a91-4e27-8ce2-8198f25c395a",
   "metadata": {},
   "outputs": [
    {
     "data": {
      "text/plain": [
       "array([ 0. ,  2.5,  5. ,  7.5, 10. ])"
      ]
     },
     "execution_count": 35,
     "metadata": {},
     "output_type": "execute_result"
    }
   ],
   "source": [
    "np.linspace(0, 10, num=5)"
   ]
  },
  {
   "cell_type": "code",
   "execution_count": 36,
   "id": "93ecdc44-0317-43a2-b54d-83d2d005b27a",
   "metadata": {},
   "outputs": [
    {
     "data": {
      "text/plain": [
       "array([ 0.        ,  1.42857143,  2.85714286,  4.28571429,  5.71428571,\n",
       "        7.14285714,  8.57142857, 10.        ])"
      ]
     },
     "execution_count": 36,
     "metadata": {},
     "output_type": "execute_result"
    }
   ],
   "source": [
    "np.linspace(0, 10, num=8)"
   ]
  },
  {
   "cell_type": "markdown",
   "id": "c807aaee-2655-4369-9a67-ac81224f5967",
   "metadata": {},
   "source": [
    "**While the default data type is floating point (np.float64),**"
   ]
  },
  {
   "cell_type": "markdown",
   "id": "5c19c093-10a6-40ff-81e1-90d3bf6fd5e4",
   "metadata": {},
   "source": [
    "**we can explicitly specify which data type we want using the dtype keyword.**"
   ]
  },
  {
   "cell_type": "code",
   "execution_count": 37,
   "id": "98503655-6def-42a8-a586-81ca1f8a30c0",
   "metadata": {},
   "outputs": [
    {
     "data": {
      "text/plain": [
       "array([1, 1], dtype=int64)"
      ]
     },
     "execution_count": 37,
     "metadata": {},
     "output_type": "execute_result"
    }
   ],
   "source": [
    "x = np.ones(2, dtype=np.int64)\n",
    "x"
   ]
  },
  {
   "cell_type": "markdown",
   "id": "512664ad-a3fb-4fda-ad7c-c30ae9c46f56",
   "metadata": {},
   "source": [
    "## Adding, removing, and sorting elements"
   ]
  },
  {
   "cell_type": "markdown",
   "id": "ba39cbd3-a118-4ea1-99c8-54654da725ff",
   "metadata": {},
   "source": [
    "**lets discuss np.sort(), np.concatenate()**"
   ]
  },
  {
   "cell_type": "markdown",
   "id": "58949a09-993a-4055-b900-7f09063f0763",
   "metadata": {},
   "source": [
    "### np.sort()"
   ]
  },
  {
   "cell_type": "markdown",
   "id": "cc127d6c-c8d7-4d96-9caf-701c872b568e",
   "metadata": {},
   "source": [
    "**Sorting an element is simple with np.sort().**"
   ]
  },
  {
   "cell_type": "markdown",
   "id": "6051b807-9d2f-4d67-b167-64f30d4cc5cd",
   "metadata": {},
   "source": [
    "**We can specify the axis, kind, and order when we call the function.**"
   ]
  },
  {
   "cell_type": "code",
   "execution_count": 38,
   "id": "e5d53389-f845-416d-8962-32c8859a736c",
   "metadata": {},
   "outputs": [
    {
     "data": {
      "text/plain": [
       "array([2, 1, 5, 3, 7, 4, 6, 8])"
      ]
     },
     "execution_count": 38,
     "metadata": {},
     "output_type": "execute_result"
    }
   ],
   "source": [
    "arr = np.array([2, 1, 5, 3, 7, 4, 6, 8])\n",
    "arr"
   ]
  },
  {
   "cell_type": "code",
   "execution_count": 39,
   "id": "453ba45e-1261-444b-b759-453cb6e1fe5a",
   "metadata": {},
   "outputs": [
    {
     "data": {
      "text/plain": [
       "array([1, 2, 3, 4, 5, 6, 7, 8])"
      ]
     },
     "execution_count": 39,
     "metadata": {},
     "output_type": "execute_result"
    }
   ],
   "source": [
    "np.sort(arr)"
   ]
  },
  {
   "cell_type": "markdown",
   "id": "a7745fee-6b37-4625-bdc1-29738eb1de51",
   "metadata": {},
   "source": [
    "### np.concatenate()"
   ]
  },
  {
   "cell_type": "markdown",
   "id": "ffcd6e37-f5bf-483c-800e-1307ecb95568",
   "metadata": {},
   "source": [
    "**Used for concatenating 2 arrays**"
   ]
  },
  {
   "cell_type": "code",
   "execution_count": 40,
   "id": "ef6878ad-c22b-4a0e-88bf-f7c73dcf6675",
   "metadata": {},
   "outputs": [
    {
     "data": {
      "text/plain": [
       "array([1, 2, 3, 4])"
      ]
     },
     "execution_count": 40,
     "metadata": {},
     "output_type": "execute_result"
    }
   ],
   "source": [
    "a = np.array([1, 2, 3, 4])\n",
    "a"
   ]
  },
  {
   "cell_type": "code",
   "execution_count": 41,
   "id": "bd06fa14-f6d7-4e9b-a4fe-25869c48d741",
   "metadata": {},
   "outputs": [
    {
     "data": {
      "text/plain": [
       "array([5, 6, 7, 8])"
      ]
     },
     "execution_count": 41,
     "metadata": {},
     "output_type": "execute_result"
    }
   ],
   "source": [
    "b = np.array([5, 6, 7, 8])\n",
    "b"
   ]
  },
  {
   "cell_type": "code",
   "execution_count": 42,
   "id": "9c55944d-1ae8-4d62-b991-eeb40119ed2d",
   "metadata": {},
   "outputs": [
    {
     "data": {
      "text/plain": [
       "array([1, 2, 3, 4, 5, 6, 7, 8])"
      ]
     },
     "execution_count": 42,
     "metadata": {},
     "output_type": "execute_result"
    }
   ],
   "source": [
    "np.concatenate((a,b))"
   ]
  },
  {
   "cell_type": "code",
   "execution_count": 43,
   "id": "8960eacb-73a0-4030-8a3f-2104d482fc1d",
   "metadata": {},
   "outputs": [
    {
     "data": {
      "text/plain": [
       "array([[1, 2],\n",
       "       [3, 4]])"
      ]
     },
     "execution_count": 43,
     "metadata": {},
     "output_type": "execute_result"
    }
   ],
   "source": [
    "x = np.array([[1, 2], [3, 4]])\n",
    "x"
   ]
  },
  {
   "cell_type": "code",
   "execution_count": 44,
   "id": "67c4c001-e6b0-4807-a316-364a6bb414e8",
   "metadata": {},
   "outputs": [
    {
     "data": {
      "text/plain": [
       "array([[5, 6]])"
      ]
     },
     "execution_count": 44,
     "metadata": {},
     "output_type": "execute_result"
    }
   ],
   "source": [
    "y = np.array([[5, 6]])\n",
    "y"
   ]
  },
  {
   "cell_type": "code",
   "execution_count": 45,
   "id": "c3929e28-86c2-473b-8bac-6d5a343117ee",
   "metadata": {},
   "outputs": [
    {
     "data": {
      "text/plain": [
       "array([[1, 2],\n",
       "       [3, 4],\n",
       "       [5, 6]])"
      ]
     },
     "execution_count": 45,
     "metadata": {},
     "output_type": "execute_result"
    }
   ],
   "source": [
    "np.concatenate((x, y), axis=0)"
   ]
  },
  {
   "cell_type": "code",
   "execution_count": 46,
   "id": "7d97f77f-f70f-4256-8275-dc6cd2d6c2d6",
   "metadata": {},
   "outputs": [
    {
     "data": {
      "text/plain": [
       "array([[1, 2],\n",
       "       [3, 4],\n",
       "       [5, 6]])"
      ]
     },
     "execution_count": 46,
     "metadata": {},
     "output_type": "execute_result"
    }
   ],
   "source": [
    "np.concatenate((x, y))"
   ]
  },
  {
   "cell_type": "code",
   "execution_count": 47,
   "id": "d901758d-2aee-4410-a0ec-b21e55a0f0d7",
   "metadata": {},
   "outputs": [],
   "source": [
    "# np.concatenate((x, y), axis=1)"
   ]
  },
  {
   "cell_type": "markdown",
   "id": "499fc7aa-863e-4ade-93db-2ea8d65b7a00",
   "metadata": {},
   "source": [
    "## Reshape an array"
   ]
  },
  {
   "cell_type": "markdown",
   "id": "523d6ef7-2267-4c3c-9a08-223fe8ba77c0",
   "metadata": {},
   "source": [
    "### reshape()"
   ]
  },
  {
   "cell_type": "markdown",
   "id": "cf11ab0e-11af-4388-a273-aa2f94afed61",
   "metadata": {},
   "source": [
    "**Using arr.reshape() will give a new shape to an array without changing the data.**"
   ]
  },
  {
   "cell_type": "markdown",
   "id": "97214342-e976-4b4f-806c-06e8a4983551",
   "metadata": {},
   "source": [
    "**Just remember that when we use the reshape method, the array we want to produce needs to have**"
   ]
  },
  {
   "cell_type": "markdown",
   "id": "3ab93381-a219-4494-9cad-233efc290da9",
   "metadata": {},
   "source": [
    "**the same number of elements as the original array.**"
   ]
  },
  {
   "cell_type": "markdown",
   "id": "77fe3252-0dba-4633-aed4-82f6a325dd75",
   "metadata": {},
   "source": [
    "**If you start with an array with 12 elements, we’ll need to make sure that**"
   ]
  },
  {
   "cell_type": "markdown",
   "id": "841e4ebf-823c-443a-8989-fdf2f1fdb0bc",
   "metadata": {},
   "source": [
    "**our new array also has a total of 12 elements.**"
   ]
  },
  {
   "cell_type": "code",
   "execution_count": 48,
   "id": "fe7a6fd0-16b0-44d7-a2d9-0c5b685d2fb8",
   "metadata": {},
   "outputs": [
    {
     "data": {
      "text/plain": [
       "array([0, 1, 2, 3, 4, 5])"
      ]
     },
     "execution_count": 48,
     "metadata": {},
     "output_type": "execute_result"
    }
   ],
   "source": [
    "a = np.arange(6)\n",
    "a"
   ]
  },
  {
   "cell_type": "markdown",
   "id": "0dcd0958-5682-4ab0-b5e8-c58707454a17",
   "metadata": {},
   "source": [
    "**We can reshape this array to an array with three rows and two columns:**"
   ]
  },
  {
   "cell_type": "code",
   "execution_count": 49,
   "id": "da111150-8f9f-458d-92dd-6e3fbc521ab9",
   "metadata": {},
   "outputs": [
    {
     "data": {
      "text/plain": [
       "array([[0, 1],\n",
       "       [2, 3],\n",
       "       [4, 5]])"
      ]
     },
     "execution_count": 49,
     "metadata": {},
     "output_type": "execute_result"
    }
   ],
   "source": [
    "b = a.reshape(3, 2)\n",
    "b"
   ]
  },
  {
   "cell_type": "markdown",
   "id": "4639a0e9-7590-40d3-8b44-21f650649f0d",
   "metadata": {},
   "source": [
    "## Convert 1D array to 2D array"
   ]
  },
  {
   "cell_type": "markdown",
   "id": "2795a1dc-d9ea-4099-854c-08c9f833b35b",
   "metadata": {},
   "source": [
    "**lets discuss about np.newaxis, np.expand_dims**"
   ]
  },
  {
   "cell_type": "markdown",
   "id": "f99970e6-0a29-4353-924c-3ab9c522173f",
   "metadata": {},
   "source": [
    "### np.newaxis"
   ]
  },
  {
   "cell_type": "markdown",
   "id": "1c8435a3-860c-4d96-bfe2-ae734ba47de5",
   "metadata": {},
   "source": [
    "**This will increase the dimensions of our array by one dimension when used once.**"
   ]
  },
  {
   "cell_type": "markdown",
   "id": "12d18141-c3e4-4a8c-9a32-81eabfba64df",
   "metadata": {},
   "source": [
    "**This means that a 1D array will become a 2D array, a 2D array will become a 3D array, and so on.**"
   ]
  },
  {
   "cell_type": "code",
   "execution_count": 50,
   "id": "106fc644-20ea-4441-95a5-2f1e68c70552",
   "metadata": {},
   "outputs": [
    {
     "data": {
      "text/plain": [
       "array([1, 2, 3, 4, 5, 6])"
      ]
     },
     "execution_count": 50,
     "metadata": {},
     "output_type": "execute_result"
    }
   ],
   "source": [
    "a = np.arange(1,7)\n",
    "a"
   ]
  },
  {
   "cell_type": "code",
   "execution_count": 51,
   "id": "abd3b9f2-b602-4071-9217-048285fd172e",
   "metadata": {},
   "outputs": [
    {
     "data": {
      "text/plain": [
       "(6,)"
      ]
     },
     "execution_count": 51,
     "metadata": {},
     "output_type": "execute_result"
    }
   ],
   "source": [
    "a.shape"
   ]
  },
  {
   "cell_type": "code",
   "execution_count": 52,
   "id": "3a24e20c-25c6-4544-89d3-350f48956cf2",
   "metadata": {},
   "outputs": [
    {
     "data": {
      "text/plain": [
       "1"
      ]
     },
     "execution_count": 52,
     "metadata": {},
     "output_type": "execute_result"
    }
   ],
   "source": [
    "a.ndim"
   ]
  },
  {
   "cell_type": "markdown",
   "id": "264a616f-1e0f-4804-9d88-d6d6d2cc9244",
   "metadata": {},
   "source": [
    "**We can convert a 1D array to a row vector by inserting an axis along the first dimension:**"
   ]
  },
  {
   "cell_type": "code",
   "execution_count": 53,
   "id": "6be23e12-d80b-4c1d-b7d3-f2511e175db4",
   "metadata": {},
   "outputs": [
    {
     "data": {
      "text/plain": [
       "array([[1, 2, 3, 4, 5, 6]])"
      ]
     },
     "execution_count": 53,
     "metadata": {},
     "output_type": "execute_result"
    }
   ],
   "source": [
    "row_vector = a[np.newaxis, :]\n",
    "row_vector"
   ]
  },
  {
   "cell_type": "code",
   "execution_count": 54,
   "id": "95bd7b01-65b8-446f-acfc-cdeeebe6e6c7",
   "metadata": {},
   "outputs": [
    {
     "data": {
      "text/plain": [
       "(1, 6)"
      ]
     },
     "execution_count": 54,
     "metadata": {},
     "output_type": "execute_result"
    }
   ],
   "source": [
    "row_vector.shape"
   ]
  },
  {
   "cell_type": "code",
   "execution_count": 55,
   "id": "1eaa9656-25d9-4452-bcfb-d816de4b5f9e",
   "metadata": {},
   "outputs": [
    {
     "data": {
      "text/plain": [
       "2"
      ]
     },
     "execution_count": 55,
     "metadata": {},
     "output_type": "execute_result"
    }
   ],
   "source": [
    "row_vector.ndim"
   ]
  },
  {
   "cell_type": "markdown",
   "id": "eca1170d-b53a-4219-b759-f85ab6d0e7ab",
   "metadata": {},
   "source": [
    "**For a column vector, we can insert an axis along the second dimension:**"
   ]
  },
  {
   "cell_type": "code",
   "execution_count": 56,
   "id": "8a5d410c-5b5e-4d5b-97cc-6ea73fe8ddd4",
   "metadata": {},
   "outputs": [
    {
     "data": {
      "text/plain": [
       "array([[1],\n",
       "       [2],\n",
       "       [3],\n",
       "       [4],\n",
       "       [5],\n",
       "       [6]])"
      ]
     },
     "execution_count": 56,
     "metadata": {},
     "output_type": "execute_result"
    }
   ],
   "source": [
    "col_vector = a[:, np.newaxis]\n",
    "col_vector"
   ]
  },
  {
   "cell_type": "code",
   "execution_count": 57,
   "id": "44bbeb67-4ed5-4475-bd8c-c04354b7e811",
   "metadata": {},
   "outputs": [
    {
     "data": {
      "text/plain": [
       "(6, 1)"
      ]
     },
     "execution_count": 57,
     "metadata": {},
     "output_type": "execute_result"
    }
   ],
   "source": [
    "col_vector.shape"
   ]
  },
  {
   "cell_type": "code",
   "execution_count": 58,
   "id": "f46d9115-b17e-4732-a19b-cd45423d8f95",
   "metadata": {},
   "outputs": [
    {
     "data": {
      "text/plain": [
       "2"
      ]
     },
     "execution_count": 58,
     "metadata": {},
     "output_type": "execute_result"
    }
   ],
   "source": [
    "col_vector.ndim"
   ]
  },
  {
   "cell_type": "markdown",
   "id": "17b32ad0-3fe9-46ba-a496-142c05152d27",
   "metadata": {},
   "source": [
    "### np.expand_dims"
   ]
  },
  {
   "cell_type": "markdown",
   "id": "9d57bbdc-19fe-4d02-80d5-30ce668449c9",
   "metadata": {},
   "source": [
    "**We can also expand an array by inserting a new axis at a specified position**"
   ]
  },
  {
   "cell_type": "code",
   "execution_count": 59,
   "id": "f2eda675-23b2-4bc2-bfd0-3f7788c4a3cb",
   "metadata": {},
   "outputs": [
    {
     "data": {
      "text/plain": [
       "array([1, 2, 3, 4, 5, 6])"
      ]
     },
     "execution_count": 59,
     "metadata": {},
     "output_type": "execute_result"
    }
   ],
   "source": [
    "a = np.arange(1,7)\n",
    "a"
   ]
  },
  {
   "cell_type": "code",
   "execution_count": 60,
   "id": "2538e998-7d2a-441f-84cc-dbd8e0a48673",
   "metadata": {},
   "outputs": [
    {
     "data": {
      "text/plain": [
       "(6,)"
      ]
     },
     "execution_count": 60,
     "metadata": {},
     "output_type": "execute_result"
    }
   ],
   "source": [
    "a.shape"
   ]
  },
  {
   "cell_type": "code",
   "execution_count": 61,
   "id": "347f4f2f-3ebc-4e1f-bf27-daa443ce69f4",
   "metadata": {},
   "outputs": [
    {
     "data": {
      "text/plain": [
       "1"
      ]
     },
     "execution_count": 61,
     "metadata": {},
     "output_type": "execute_result"
    }
   ],
   "source": [
    "a.ndim"
   ]
  },
  {
   "cell_type": "markdown",
   "id": "9e4c197b-06e3-43b5-a328-ff2aff83b4bd",
   "metadata": {},
   "source": [
    "**We can use np.expand_dims to add an axis at index position 0 with:**"
   ]
  },
  {
   "cell_type": "code",
   "execution_count": 62,
   "id": "75c862ea-01c2-485b-95c8-a3cf0feca212",
   "metadata": {},
   "outputs": [
    {
     "data": {
      "text/plain": [
       "array([[1, 2, 3, 4, 5, 6]])"
      ]
     },
     "execution_count": 62,
     "metadata": {},
     "output_type": "execute_result"
    }
   ],
   "source": [
    "b = np.expand_dims(a, axis=0)\n",
    "b"
   ]
  },
  {
   "cell_type": "code",
   "execution_count": 63,
   "id": "fd26e284-8907-40e8-93a3-a41953633b68",
   "metadata": {},
   "outputs": [
    {
     "data": {
      "text/plain": [
       "(1, 6)"
      ]
     },
     "execution_count": 63,
     "metadata": {},
     "output_type": "execute_result"
    }
   ],
   "source": [
    "b.shape"
   ]
  },
  {
   "cell_type": "code",
   "execution_count": 64,
   "id": "03471dc3-4249-46e0-9110-297661fd2aa2",
   "metadata": {},
   "outputs": [
    {
     "data": {
      "text/plain": [
       "2"
      ]
     },
     "execution_count": 64,
     "metadata": {},
     "output_type": "execute_result"
    }
   ],
   "source": [
    "b.ndim"
   ]
  },
  {
   "cell_type": "markdown",
   "id": "f396b162-f716-4ac2-a173-5fbd907e97f0",
   "metadata": {},
   "source": [
    "**Similarly for index position 1:**"
   ]
  },
  {
   "cell_type": "code",
   "execution_count": 65,
   "id": "b6bd3d3a-0477-4320-a461-d0246dad5abf",
   "metadata": {},
   "outputs": [
    {
     "data": {
      "text/plain": [
       "array([[1],\n",
       "       [2],\n",
       "       [3],\n",
       "       [4],\n",
       "       [5],\n",
       "       [6]])"
      ]
     },
     "execution_count": 65,
     "metadata": {},
     "output_type": "execute_result"
    }
   ],
   "source": [
    "c = np.expand_dims(a, axis=1)\n",
    "c"
   ]
  },
  {
   "cell_type": "code",
   "execution_count": 66,
   "id": "ada8d694-8060-4a45-a9cc-2ac98771900a",
   "metadata": {},
   "outputs": [
    {
     "data": {
      "text/plain": [
       "(6, 1)"
      ]
     },
     "execution_count": 66,
     "metadata": {},
     "output_type": "execute_result"
    }
   ],
   "source": [
    "c.shape"
   ]
  },
  {
   "cell_type": "code",
   "execution_count": 67,
   "id": "fe1d5d2b-1268-4c0d-bfe3-643833ebf4e7",
   "metadata": {},
   "outputs": [
    {
     "data": {
      "text/plain": [
       "2"
      ]
     },
     "execution_count": 67,
     "metadata": {},
     "output_type": "execute_result"
    }
   ],
   "source": [
    "c.ndim"
   ]
  },
  {
   "cell_type": "markdown",
   "id": "ab345a62-c234-461f-b0e3-f56fc7827165",
   "metadata": {},
   "source": [
    "## Indexing and Slicing"
   ]
  },
  {
   "cell_type": "markdown",
   "id": "28c62f44-744c-4f07-a511-67c0af3ac5fd",
   "metadata": {},
   "source": [
    "**We can index and slice NumPy arrays in the same ways we can slice Python lists.**"
   ]
  },
  {
   "cell_type": "code",
   "execution_count": 68,
   "id": "65723284-7cc0-49ce-90d6-191ffc0c14a7",
   "metadata": {},
   "outputs": [
    {
     "data": {
      "text/plain": [
       "array([1, 2, 3])"
      ]
     },
     "execution_count": 68,
     "metadata": {},
     "output_type": "execute_result"
    }
   ],
   "source": [
    "data = np.array([1, 2, 3])\n",
    "data"
   ]
  },
  {
   "cell_type": "code",
   "execution_count": 69,
   "id": "63a65933-ff8a-4b0e-8636-fd759c74f227",
   "metadata": {},
   "outputs": [
    {
     "data": {
      "text/plain": [
       "2"
      ]
     },
     "execution_count": 69,
     "metadata": {},
     "output_type": "execute_result"
    }
   ],
   "source": [
    "data[1]"
   ]
  },
  {
   "cell_type": "code",
   "execution_count": 70,
   "id": "f6669347-6f17-4f47-921d-e2ca15b0ccea",
   "metadata": {},
   "outputs": [
    {
     "data": {
      "text/plain": [
       "array([1, 2])"
      ]
     },
     "execution_count": 70,
     "metadata": {},
     "output_type": "execute_result"
    }
   ],
   "source": [
    "data[0:2]"
   ]
  },
  {
   "cell_type": "code",
   "execution_count": 71,
   "id": "f53024c2-134a-4d8a-80a0-746969a0fefb",
   "metadata": {},
   "outputs": [
    {
     "data": {
      "text/plain": [
       "array([2, 3])"
      ]
     },
     "execution_count": 71,
     "metadata": {},
     "output_type": "execute_result"
    }
   ],
   "source": [
    "data[1:]"
   ]
  },
  {
   "cell_type": "code",
   "execution_count": 72,
   "id": "96e29418-d3ec-4905-bd80-71f469cc2881",
   "metadata": {},
   "outputs": [
    {
     "data": {
      "text/plain": [
       "array([2, 3])"
      ]
     },
     "execution_count": 72,
     "metadata": {},
     "output_type": "execute_result"
    }
   ],
   "source": [
    "data[-2:]"
   ]
  },
  {
   "cell_type": "markdown",
   "id": "c7d8beb6-a0ac-419b-96ff-c117eb314f6d",
   "metadata": {},
   "source": [
    "**We can visualize it this way:**"
   ]
  },
  {
   "cell_type": "markdown",
   "id": "030f6e38-2ef6-4ab5-af27-9412f9ee1dc3",
   "metadata": {},
   "source": [
    "<img src='03_IndexingSlicing.PNG' width=\"700\" height=\"700\">"
   ]
  },
  {
   "cell_type": "markdown",
   "id": "bdf6c7ab-99ba-4c26-8f1e-4ab96c623ddd",
   "metadata": {},
   "source": [
    "**If we want to select values from our array that fulfill certain conditions, it’s straightforward with NumPy.**"
   ]
  },
  {
   "cell_type": "code",
   "execution_count": 73,
   "id": "1981217a-3e49-474f-93a8-e7211dbbb66c",
   "metadata": {},
   "outputs": [
    {
     "data": {
      "text/plain": [
       "array([[ 1,  2,  3,  4],\n",
       "       [ 5,  6,  7,  8],\n",
       "       [ 9, 10, 11, 12]])"
      ]
     },
     "execution_count": 73,
     "metadata": {},
     "output_type": "execute_result"
    }
   ],
   "source": [
    "a = np.array([[1 , 2, 3, 4], [5, 6, 7, 8], [9, 10, 11, 12]])\n",
    "a"
   ]
  },
  {
   "cell_type": "code",
   "execution_count": 74,
   "id": "3978c874-b29d-410c-be2e-8199b5104d4b",
   "metadata": {},
   "outputs": [
    {
     "data": {
      "text/plain": [
       "array([1, 2, 3, 4])"
      ]
     },
     "execution_count": 74,
     "metadata": {},
     "output_type": "execute_result"
    }
   ],
   "source": [
    "a[a<5]"
   ]
  },
  {
   "cell_type": "code",
   "execution_count": 75,
   "id": "74b03387-0c40-4200-acb3-7f4351005c31",
   "metadata": {},
   "outputs": [
    {
     "data": {
      "text/plain": [
       "array([ 6,  7,  8,  9, 10, 11, 12])"
      ]
     },
     "execution_count": 75,
     "metadata": {},
     "output_type": "execute_result"
    }
   ],
   "source": [
    "a[a>5]"
   ]
  },
  {
   "cell_type": "markdown",
   "id": "c1e04592-6d00-43b0-a47c-d2dffa018c53",
   "metadata": {},
   "source": [
    "**divisible by 2**"
   ]
  },
  {
   "cell_type": "code",
   "execution_count": 76,
   "id": "4dc65556-ffdf-47c7-94ac-d1350e00c416",
   "metadata": {},
   "outputs": [
    {
     "data": {
      "text/plain": [
       "array([ 2,  4,  6,  8, 10, 12])"
      ]
     },
     "execution_count": 76,
     "metadata": {},
     "output_type": "execute_result"
    }
   ],
   "source": [
    "a[a%2 == 0]"
   ]
  },
  {
   "cell_type": "markdown",
   "id": "adf9d1f3-ec86-432a-8186-cded7027f218",
   "metadata": {},
   "source": [
    "**using conditions**"
   ]
  },
  {
   "cell_type": "code",
   "execution_count": 77,
   "id": "38165025-7996-4f4f-9ab6-93cc27e28dd1",
   "metadata": {},
   "outputs": [
    {
     "data": {
      "text/plain": [
       "array([ 3,  4,  5,  6,  7,  8,  9, 10])"
      ]
     },
     "execution_count": 77,
     "metadata": {},
     "output_type": "execute_result"
    }
   ],
   "source": [
    "a[(a > 2) & (a < 11)]"
   ]
  },
  {
   "cell_type": "code",
   "execution_count": 78,
   "id": "8d9baf7f-1a85-4009-8e21-074588d8ec47",
   "metadata": {},
   "outputs": [
    {
     "data": {
      "text/plain": [
       "array([[False, False, False, False],\n",
       "       [ True,  True,  True,  True],\n",
       "       [ True,  True,  True,  True]])"
      ]
     },
     "execution_count": 78,
     "metadata": {},
     "output_type": "execute_result"
    }
   ],
   "source": [
    "(a > 5) | (a == 5)"
   ]
  },
  {
   "cell_type": "markdown",
   "id": "5511dd01-3bbc-4fb8-aa7e-bedd702169ad",
   "metadata": {},
   "source": [
    "### np.nonzero()"
   ]
  },
  {
   "cell_type": "markdown",
   "id": "cf7af1f6-62e0-43d3-8f0d-dd06c3ea0178",
   "metadata": {},
   "source": [
    "**We can use np.nonzero() to select elements or indices from an array.**"
   ]
  },
  {
   "cell_type": "code",
   "execution_count": 79,
   "id": "e282602f-43bb-4026-a1e1-6a03ecbbaf32",
   "metadata": {},
   "outputs": [
    {
     "data": {
      "text/plain": [
       "array([[ 1,  2,  3,  4],\n",
       "       [ 5,  6,  7,  8],\n",
       "       [ 9, 10, 11, 12]])"
      ]
     },
     "execution_count": 79,
     "metadata": {},
     "output_type": "execute_result"
    }
   ],
   "source": [
    "a = np.array([[1, 2, 3, 4], [5, 6, 7, 8], [9, 10, 11, 12]])\n",
    "a"
   ]
  },
  {
   "cell_type": "markdown",
   "id": "56a5b1d5-22f8-407f-a0ed-1f169dba902e",
   "metadata": {},
   "source": [
    "**We can use np.nonzero() to print the indices of elements that are, for example, less than or equal to 6:**"
   ]
  },
  {
   "cell_type": "code",
   "execution_count": 80,
   "id": "b28984ca-5c0a-43b4-9e3d-15554a172346",
   "metadata": {},
   "outputs": [
    {
     "data": {
      "text/plain": [
       "(array([0, 0, 0, 0, 1, 1], dtype=int64),\n",
       " array([0, 1, 2, 3, 0, 1], dtype=int64))"
      ]
     },
     "execution_count": 80,
     "metadata": {},
     "output_type": "execute_result"
    }
   ],
   "source": [
    "b = np.nonzero(a <= 6)\n",
    "b"
   ]
  },
  {
   "cell_type": "code",
   "execution_count": 81,
   "id": "936a4a13-a433-40d8-a76c-f633e53fb5a0",
   "metadata": {},
   "outputs": [
    {
     "data": {
      "text/plain": [
       "tuple"
      ]
     },
     "execution_count": 81,
     "metadata": {},
     "output_type": "execute_result"
    }
   ],
   "source": [
    "type(b)"
   ]
  },
  {
   "cell_type": "markdown",
   "id": "9a6c4b01-d64f-40c1-a788-2c87ed06005c",
   "metadata": {},
   "source": [
    "**In this example, a tuple of arrays was returned: one for each dimension.**"
   ]
  },
  {
   "cell_type": "markdown",
   "id": "65b59e50-1f8f-4529-a2c6-fc773107dff4",
   "metadata": {},
   "source": [
    "**The first array represents the row indices where these values are found, and**"
   ]
  },
  {
   "cell_type": "markdown",
   "id": "35c7adfd-d3cb-43d0-a326-5b5176eed287",
   "metadata": {},
   "source": [
    "**the second array represents the column indices where the values are found.**"
   ]
  },
  {
   "cell_type": "markdown",
   "id": "60b6002b-174d-4c66-a5f2-52328b7f07e8",
   "metadata": {},
   "source": [
    "**If we want to generate a list of coordinates where the elements exist,**"
   ]
  },
  {
   "cell_type": "markdown",
   "id": "cdf8845a-3dd0-4de8-a63d-b11ab92c5f80",
   "metadata": {},
   "source": [
    "**we can zip the arrays, iterate over the list of coordinates, and print them.**"
   ]
  },
  {
   "cell_type": "markdown",
   "id": "9e48ed9f-fdf4-43f5-ae96-a9300284158c",
   "metadata": {},
   "source": [
    "**For example:**"
   ]
  },
  {
   "cell_type": "code",
   "execution_count": 82,
   "id": "c33fb403-ba45-4658-af01-cd67a0172e9d",
   "metadata": {},
   "outputs": [
    {
     "data": {
      "text/plain": [
       "[(0, 0), (0, 1), (0, 2), (0, 3), (1, 0), (1, 1)]"
      ]
     },
     "execution_count": 82,
     "metadata": {},
     "output_type": "execute_result"
    }
   ],
   "source": [
    "list(zip(b[0], b[1]))"
   ]
  },
  {
   "cell_type": "markdown",
   "id": "60902eee-5487-4d30-a8e7-5797cfe6b001",
   "metadata": {},
   "source": [
    "**We can also use np.nonzero() to print the elements in an array that are less than or equal to 6:**"
   ]
  },
  {
   "cell_type": "code",
   "execution_count": 83,
   "id": "1060502e-e815-4040-a948-ad058720317e",
   "metadata": {},
   "outputs": [
    {
     "data": {
      "text/plain": [
       "array([1, 2, 3, 4, 5, 6])"
      ]
     },
     "execution_count": 83,
     "metadata": {},
     "output_type": "execute_result"
    }
   ],
   "source": [
    "a[b]"
   ]
  },
  {
   "cell_type": "markdown",
   "id": "9e2c42a2-5b44-456f-8497-dd1145655180",
   "metadata": {},
   "source": [
    "**If the element we’re looking for doesn’t exist in the array, then the returned array of indices will be empty.**"
   ]
  },
  {
   "cell_type": "code",
   "execution_count": 84,
   "id": "05b9df47-32a2-4d5f-9816-8b3f3010ed1e",
   "metadata": {},
   "outputs": [
    {
     "data": {
      "text/plain": [
       "(array([], dtype=int64), array([], dtype=int64))"
      ]
     },
     "execution_count": 84,
     "metadata": {},
     "output_type": "execute_result"
    }
   ],
   "source": [
    "np.nonzero(a == 42)"
   ]
  },
  {
   "cell_type": "markdown",
   "id": "e304d8fc-44a1-4cec-8155-578156dddec4",
   "metadata": {},
   "source": [
    "## Create an array from existing data"
   ]
  },
  {
   "cell_type": "markdown",
   "id": "744478c0-661b-4fcb-b0a6-c596b90fb6ca",
   "metadata": {},
   "source": [
    "**lets discuss: slicing and indexing, np.vstack(), np.hstack(), np.hsplit(), view(), copy()**"
   ]
  },
  {
   "cell_type": "code",
   "execution_count": 85,
   "id": "8c19e57e-a8aa-44e0-855b-5289bcefa524",
   "metadata": {},
   "outputs": [
    {
     "data": {
      "text/plain": [
       "array([ 1,  2,  3,  4,  5,  6,  7,  8,  9, 10])"
      ]
     },
     "execution_count": 85,
     "metadata": {},
     "output_type": "execute_result"
    }
   ],
   "source": [
    "a = np.array([1,  2,  3,  4,  5,  6,  7,  8,  9, 10])\n",
    "a"
   ]
  },
  {
   "cell_type": "markdown",
   "id": "a9347329-73b2-4022-8c70-964c17b44845",
   "metadata": {},
   "source": [
    "**We can create a new array from a section of our array any time by**"
   ]
  },
  {
   "cell_type": "markdown",
   "id": "a3ccc148-9408-47bf-8d73-5d1624d7aab7",
   "metadata": {},
   "source": [
    "**specifying where we want to slice our array.**"
   ]
  },
  {
   "cell_type": "code",
   "execution_count": 86,
   "id": "76e37745-ea28-4f6b-8fd7-1d7c967ca814",
   "metadata": {},
   "outputs": [
    {
     "data": {
      "text/plain": [
       "array([4, 5, 6, 7, 8])"
      ]
     },
     "execution_count": 86,
     "metadata": {},
     "output_type": "execute_result"
    }
   ],
   "source": [
    "arr1 = a[3:8]\n",
    "arr1"
   ]
  },
  {
   "cell_type": "markdown",
   "id": "55475846-6c1a-4f92-82e8-debe47fb8898",
   "metadata": {},
   "source": [
    "**We can also stack two existing arrays, both vertically and horizontally.**"
   ]
  },
  {
   "cell_type": "code",
   "execution_count": 87,
   "id": "159a3adb-f21a-4a25-b36e-e2b0999085d5",
   "metadata": {},
   "outputs": [
    {
     "data": {
      "text/plain": [
       "array([[1, 1],\n",
       "       [2, 2]])"
      ]
     },
     "execution_count": 87,
     "metadata": {},
     "output_type": "execute_result"
    }
   ],
   "source": [
    "a1 = np.array([[1, 1],\n",
    "               [2, 2]])\n",
    "a1"
   ]
  },
  {
   "cell_type": "code",
   "execution_count": 88,
   "id": "e5a65422-7d45-4274-be86-58601ce06fca",
   "metadata": {},
   "outputs": [
    {
     "data": {
      "text/plain": [
       "array([[3, 3],\n",
       "       [4, 4]])"
      ]
     },
     "execution_count": 88,
     "metadata": {},
     "output_type": "execute_result"
    }
   ],
   "source": [
    "a2 = np.array([[3, 3],\n",
    "               [4, 4]])\n",
    "a2"
   ]
  },
  {
   "cell_type": "markdown",
   "id": "28977060-0df9-4091-87d0-265a8307a45b",
   "metadata": {},
   "source": [
    "**We can stack them vertically with vstack:**"
   ]
  },
  {
   "cell_type": "code",
   "execution_count": 89,
   "id": "08631851-e112-4c9f-a841-195f890093f5",
   "metadata": {},
   "outputs": [
    {
     "data": {
      "text/plain": [
       "array([[1, 1],\n",
       "       [2, 2],\n",
       "       [3, 3],\n",
       "       [4, 4]])"
      ]
     },
     "execution_count": 89,
     "metadata": {},
     "output_type": "execute_result"
    }
   ],
   "source": [
    "np.vstack((a1, a2))"
   ]
  },
  {
   "cell_type": "markdown",
   "id": "894fd5fb-da1f-4821-8fbb-42e1076f1ed0",
   "metadata": {},
   "source": [
    "**Or stack them horizontally with hstack:**"
   ]
  },
  {
   "cell_type": "code",
   "execution_count": 90,
   "id": "8284e398-7622-4cf1-b26e-80c4ace77349",
   "metadata": {},
   "outputs": [
    {
     "data": {
      "text/plain": [
       "array([[1, 1, 3, 3],\n",
       "       [2, 2, 4, 4]])"
      ]
     },
     "execution_count": 90,
     "metadata": {},
     "output_type": "execute_result"
    }
   ],
   "source": [
    "np.hstack((a1, a2))"
   ]
  },
  {
   "cell_type": "markdown",
   "id": "9193d75b-7a58-41af-bcb3-5da576ea4ca8",
   "metadata": {},
   "source": [
    "**We can split an array into several smaller arrays using hsplit.**"
   ]
  },
  {
   "cell_type": "code",
   "execution_count": 91,
   "id": "549428b7-c60f-47ef-94d1-aeaf32c55b40",
   "metadata": {},
   "outputs": [
    {
     "data": {
      "text/plain": [
       "array([ 1,  2,  3,  4,  5,  6,  7,  8,  9, 10, 11, 12, 13, 14, 15, 16, 17,\n",
       "       18, 19, 20, 21, 22, 23, 24])"
      ]
     },
     "execution_count": 91,
     "metadata": {},
     "output_type": "execute_result"
    }
   ],
   "source": [
    "np.arange(1, 25)"
   ]
  },
  {
   "cell_type": "code",
   "execution_count": 92,
   "id": "12a0469a-6957-4656-aa89-e9494d925485",
   "metadata": {},
   "outputs": [
    {
     "data": {
      "text/plain": [
       "array([[ 1,  2,  3,  4,  5,  6,  7,  8,  9, 10, 11, 12],\n",
       "       [13, 14, 15, 16, 17, 18, 19, 20, 21, 22, 23, 24]])"
      ]
     },
     "execution_count": 92,
     "metadata": {},
     "output_type": "execute_result"
    }
   ],
   "source": [
    "x = np.arange(1, 25).reshape(2, 12)\n",
    "x"
   ]
  },
  {
   "cell_type": "markdown",
   "id": "35d18054-f0cb-455e-8e5f-a0a81c33e004",
   "metadata": {},
   "source": [
    "**If we wanted to split this array into three equally shaped arrays, we would run:**"
   ]
  },
  {
   "cell_type": "code",
   "execution_count": 93,
   "id": "c10bf467-f15c-4e40-8c86-cd5f5f0798fb",
   "metadata": {},
   "outputs": [
    {
     "data": {
      "text/plain": [
       "[array([[ 1,  2,  3,  4],\n",
       "        [13, 14, 15, 16]]),\n",
       " array([[ 5,  6,  7,  8],\n",
       "        [17, 18, 19, 20]]),\n",
       " array([[ 9, 10, 11, 12],\n",
       "        [21, 22, 23, 24]])]"
      ]
     },
     "execution_count": 93,
     "metadata": {},
     "output_type": "execute_result"
    }
   ],
   "source": [
    "np.hsplit(x, 3)"
   ]
  },
  {
   "cell_type": "markdown",
   "id": "e578d59f-c963-404f-954d-031346b9a8a3",
   "metadata": {},
   "source": [
    "**If we wanted to split our array after the third and fourth column, we’d run:**"
   ]
  },
  {
   "cell_type": "code",
   "execution_count": 94,
   "id": "aa786ec1-bb6b-4eec-abb9-693148dc1985",
   "metadata": {},
   "outputs": [
    {
     "data": {
      "text/plain": [
       "[array([[ 1,  2,  3],\n",
       "        [13, 14, 15]]),\n",
       " array([[ 4],\n",
       "        [16]]),\n",
       " array([[ 5,  6,  7,  8,  9, 10, 11, 12],\n",
       "        [17, 18, 19, 20, 21, 22, 23, 24]])]"
      ]
     },
     "execution_count": 94,
     "metadata": {},
     "output_type": "execute_result"
    }
   ],
   "source": [
    "np.hsplit(x, (3, 4))"
   ]
  },
  {
   "cell_type": "markdown",
   "id": "df030b60-a68b-40ee-87af-9b568d97f5e1",
   "metadata": {},
   "source": [
    "**We can use the view method to create a new array object that**"
   ]
  },
  {
   "cell_type": "markdown",
   "id": "602b752d-4e59-4f8a-9557-078564cfcfbf",
   "metadata": {},
   "source": [
    "**looks at the same data as the original array (a shallow copy).**"
   ]
  },
  {
   "cell_type": "markdown",
   "id": "3e47ce63-84b9-48c5-baab-029ef207490e",
   "metadata": {},
   "source": [
    "**Views are an important NumPy concept!**"
   ]
  },
  {
   "cell_type": "markdown",
   "id": "fd70ebf2-417d-4db3-88c0-09dcc7399b8f",
   "metadata": {},
   "source": [
    "**NumPy functions, as well as operations like indexing and slicing, will return views whenever possible.**"
   ]
  },
  {
   "cell_type": "markdown",
   "id": "b8ae02ec-330b-4d43-9c97-b3b0c9b5e436",
   "metadata": {},
   "source": [
    "**This saves memory and is faster (no copy of the data has to be made).**"
   ]
  },
  {
   "cell_type": "markdown",
   "id": "0ba01734-94e2-4bf5-83e7-12a563d61f7d",
   "metadata": {},
   "source": [
    "**However it’s important to be aware of this - modifying data in a view also modifies the original array!**"
   ]
  },
  {
   "cell_type": "code",
   "execution_count": 95,
   "id": "c2246461-ce18-411d-8b91-a240f77fe8e0",
   "metadata": {},
   "outputs": [
    {
     "data": {
      "text/plain": [
       "array([[ 1,  2,  3,  4],\n",
       "       [ 5,  6,  7,  8],\n",
       "       [ 9, 10, 11, 12]])"
      ]
     },
     "execution_count": 95,
     "metadata": {},
     "output_type": "execute_result"
    }
   ],
   "source": [
    "a = np.array([[1, 2, 3, 4], [5, 6, 7, 8], [9, 10, 11, 12]])\n",
    "a"
   ]
  },
  {
   "cell_type": "markdown",
   "id": "cd01cc7f-e656-4204-91d7-12fa6fbe525c",
   "metadata": {},
   "source": [
    "**Now we create an array b1 by slicing a and modify the first element of b1.**"
   ]
  },
  {
   "cell_type": "markdown",
   "id": "c6b7fdb2-d2a8-4393-b7f3-213915f64ea1",
   "metadata": {},
   "source": [
    "**This will modify the corresponding element in a as well!**"
   ]
  },
  {
   "cell_type": "code",
   "execution_count": 96,
   "id": "7e7bdafb-abc6-4f14-b4f2-ccd8db086083",
   "metadata": {},
   "outputs": [
    {
     "data": {
      "text/plain": [
       "array([1, 2, 3, 4])"
      ]
     },
     "execution_count": 96,
     "metadata": {},
     "output_type": "execute_result"
    }
   ],
   "source": [
    "b1 = a[0, :]\n",
    "b1"
   ]
  },
  {
   "cell_type": "code",
   "execution_count": 97,
   "id": "42a4f8ed-7d0c-4a45-ad9d-3d8eb86d2eaf",
   "metadata": {},
   "outputs": [
    {
     "data": {
      "text/plain": [
       "array([99,  2,  3,  4])"
      ]
     },
     "execution_count": 97,
     "metadata": {},
     "output_type": "execute_result"
    }
   ],
   "source": [
    "b1[0] = 99\n",
    "b1"
   ]
  },
  {
   "cell_type": "code",
   "execution_count": 98,
   "id": "02304862-2f66-453a-acb6-84ac50d08ed8",
   "metadata": {},
   "outputs": [
    {
     "data": {
      "text/plain": [
       "array([[99,  2,  3,  4],\n",
       "       [ 5,  6,  7,  8],\n",
       "       [ 9, 10, 11, 12]])"
      ]
     },
     "execution_count": 98,
     "metadata": {},
     "output_type": "execute_result"
    }
   ],
   "source": [
    "a"
   ]
  },
  {
   "cell_type": "markdown",
   "id": "c5eba5be-f7d9-41df-bccf-30b2bc05af3b",
   "metadata": {},
   "source": [
    "**Using the copy method will make a complete copy of the array and its data (a deep copy).**"
   ]
  },
  {
   "cell_type": "markdown",
   "id": "7e5a5966-51e4-40a4-b215-b0bffb6cc88d",
   "metadata": {},
   "source": [
    "**To use this on our array, we could run:**"
   ]
  },
  {
   "cell_type": "code",
   "execution_count": 99,
   "id": "05699936-b232-4d38-89bb-fc398698a02a",
   "metadata": {},
   "outputs": [
    {
     "data": {
      "text/plain": [
       "array([[99,  2,  3,  4],\n",
       "       [ 5,  6,  7,  8],\n",
       "       [ 9, 10, 11, 12]])"
      ]
     },
     "execution_count": 99,
     "metadata": {},
     "output_type": "execute_result"
    }
   ],
   "source": [
    "b2 = a.copy()\n",
    "b2"
   ]
  },
  {
   "cell_type": "code",
   "execution_count": 100,
   "id": "40239f6b-3b88-4dba-8f2e-3b0a7dd60692",
   "metadata": {},
   "outputs": [
    {
     "data": {
      "text/plain": [
       "array([[ 1,  1,  1,  1],\n",
       "       [ 5,  6,  7,  8],\n",
       "       [ 9, 10, 11, 12]])"
      ]
     },
     "execution_count": 100,
     "metadata": {},
     "output_type": "execute_result"
    }
   ],
   "source": [
    "b2[0] = 1\n",
    "b2"
   ]
  },
  {
   "cell_type": "code",
   "execution_count": 101,
   "id": "56d65eea-aaee-4d0d-9ba0-7125c9b7ec29",
   "metadata": {},
   "outputs": [
    {
     "data": {
      "text/plain": [
       "array([[99,  2,  3,  4],\n",
       "       [ 5,  6,  7,  8],\n",
       "       [ 9, 10, 11, 12]])"
      ]
     },
     "execution_count": 101,
     "metadata": {},
     "output_type": "execute_result"
    }
   ],
   "source": [
    "a"
   ]
  },
  {
   "cell_type": "markdown",
   "id": "f6d91e1f-540a-4871-bca3-35583acf627f",
   "metadata": {},
   "source": [
    "## Basic array operations"
   ]
  },
  {
   "cell_type": "markdown",
   "id": "d039bd0b-a148-40d7-a52b-2483ed7abb38",
   "metadata": {},
   "source": [
    "**lets discuss addition, subtraction, multiplication, division, and more**"
   ]
  },
  {
   "cell_type": "code",
   "execution_count": 102,
   "id": "878da699-620d-46ed-9305-48a9bd01465b",
   "metadata": {},
   "outputs": [
    {
     "data": {
      "text/plain": [
       "array([1, 2])"
      ]
     },
     "execution_count": 102,
     "metadata": {},
     "output_type": "execute_result"
    }
   ],
   "source": [
    "data = np.array([1,2])\n",
    "data"
   ]
  },
  {
   "cell_type": "code",
   "execution_count": 103,
   "id": "a572fc93-78bc-4521-82a5-9a2edf7de69a",
   "metadata": {},
   "outputs": [
    {
     "data": {
      "text/plain": [
       "array([1., 1.])"
      ]
     },
     "execution_count": 103,
     "metadata": {},
     "output_type": "execute_result"
    }
   ],
   "source": [
    "np.ones(2)"
   ]
  },
  {
   "cell_type": "code",
   "execution_count": 104,
   "id": "b1286e15-b40d-4f04-9fc9-7d7e39376c67",
   "metadata": {},
   "outputs": [
    {
     "data": {
      "text/plain": [
       "array([1, 1])"
      ]
     },
     "execution_count": 104,
     "metadata": {},
     "output_type": "execute_result"
    }
   ],
   "source": [
    "ones = np.ones(2, dtype=int)\n",
    "ones"
   ]
  },
  {
   "cell_type": "markdown",
   "id": "f7845f10-bc7d-43e2-8530-09cac022b820",
   "metadata": {},
   "source": [
    "<img src='04_BasicArray.PNG' width=\"700\" height=\"700\">"
   ]
  },
  {
   "cell_type": "markdown",
   "id": "e954e97d-169c-4efb-a951-21cf840ca254",
   "metadata": {},
   "source": [
    "**add**"
   ]
  },
  {
   "cell_type": "code",
   "execution_count": 105,
   "id": "721a1992-72c1-4416-85f5-8d160f61cc59",
   "metadata": {},
   "outputs": [
    {
     "data": {
      "text/plain": [
       "array([2, 3])"
      ]
     },
     "execution_count": 105,
     "metadata": {},
     "output_type": "execute_result"
    }
   ],
   "source": [
    "data + ones"
   ]
  },
  {
   "cell_type": "markdown",
   "id": "89ad93de-d58e-4f5d-b843-f54d622c9fb9",
   "metadata": {},
   "source": [
    "<img src='05_ArraySum.PNG' width=\"700\" height=\"700\">"
   ]
  },
  {
   "cell_type": "markdown",
   "id": "58bddba2-c00c-4074-9ded-21c40346a028",
   "metadata": {},
   "source": [
    "**subtract**"
   ]
  },
  {
   "cell_type": "code",
   "execution_count": 106,
   "id": "d39e26a6-7a14-4754-ae16-6b5a04fc5bfb",
   "metadata": {},
   "outputs": [
    {
     "data": {
      "text/plain": [
       "array([0, 1])"
      ]
     },
     "execution_count": 106,
     "metadata": {},
     "output_type": "execute_result"
    }
   ],
   "source": [
    "data - ones"
   ]
  },
  {
   "cell_type": "markdown",
   "id": "fe6327a0-cd32-4eae-a998-d1aa31ba23d1",
   "metadata": {},
   "source": [
    "**multiply**"
   ]
  },
  {
   "cell_type": "code",
   "execution_count": 107,
   "id": "3d4a58ae-a0c0-4e93-8127-d03bf96d8627",
   "metadata": {},
   "outputs": [
    {
     "data": {
      "text/plain": [
       "array([1, 2])"
      ]
     },
     "execution_count": 107,
     "metadata": {},
     "output_type": "execute_result"
    }
   ],
   "source": [
    "data * ones"
   ]
  },
  {
   "cell_type": "code",
   "execution_count": 108,
   "id": "4e1ff28c-3200-441a-8403-74116e2bae4a",
   "metadata": {},
   "outputs": [
    {
     "data": {
      "text/plain": [
       "array([1, 4])"
      ]
     },
     "execution_count": 108,
     "metadata": {},
     "output_type": "execute_result"
    }
   ],
   "source": [
    "data * data"
   ]
  },
  {
   "cell_type": "markdown",
   "id": "543e6176-a720-470e-8065-e1497f4471e4",
   "metadata": {},
   "source": [
    "**division**"
   ]
  },
  {
   "cell_type": "code",
   "execution_count": 109,
   "id": "2cc321e4-1843-4eb9-be7e-06506a5300d5",
   "metadata": {},
   "outputs": [
    {
     "data": {
      "text/plain": [
       "array([1., 2.])"
      ]
     },
     "execution_count": 109,
     "metadata": {},
     "output_type": "execute_result"
    }
   ],
   "source": [
    "data / ones"
   ]
  },
  {
   "cell_type": "code",
   "execution_count": 110,
   "id": "d91d60f6-7d80-4191-b531-8aa4a3ed4552",
   "metadata": {},
   "outputs": [
    {
     "data": {
      "text/plain": [
       "array([1., 1.])"
      ]
     },
     "execution_count": 110,
     "metadata": {},
     "output_type": "execute_result"
    }
   ],
   "source": [
    "data / data"
   ]
  },
  {
   "cell_type": "markdown",
   "id": "123e3308-8461-4827-a71b-4d82ee724e16",
   "metadata": {},
   "source": [
    "<img src='06_ArrayOperations.PNG' width=\"700\" height=\"700\">"
   ]
  },
  {
   "cell_type": "markdown",
   "id": "29acaec8-b218-48e8-b175-a0c9eb40631b",
   "metadata": {},
   "source": [
    "**If we want to find the sum of the elements in an array, we’d use sum().**"
   ]
  },
  {
   "cell_type": "code",
   "execution_count": 111,
   "id": "6a36b2b5-d28f-470d-8615-297012a496cf",
   "metadata": {},
   "outputs": [
    {
     "data": {
      "text/plain": [
       "array([1, 2, 3, 4])"
      ]
     },
     "execution_count": 111,
     "metadata": {},
     "output_type": "execute_result"
    }
   ],
   "source": [
    "a = np.array([1,2,3,4])\n",
    "a"
   ]
  },
  {
   "cell_type": "code",
   "execution_count": 112,
   "id": "7a2bd40c-5a57-40e7-a850-de520a015985",
   "metadata": {},
   "outputs": [
    {
     "data": {
      "text/plain": [
       "10"
      ]
     },
     "execution_count": 112,
     "metadata": {},
     "output_type": "execute_result"
    }
   ],
   "source": [
    "a.sum()"
   ]
  },
  {
   "cell_type": "markdown",
   "id": "7ea4fdd8-0e0d-448e-bf24-32c2b5944f28",
   "metadata": {},
   "source": [
    "**To add the rows or the columns in a 2D array, we would specify the axis.**"
   ]
  },
  {
   "cell_type": "code",
   "execution_count": 113,
   "id": "087f0d38-2438-4213-8ae0-45b05a01288a",
   "metadata": {},
   "outputs": [
    {
     "data": {
      "text/plain": [
       "array([[1, 1],\n",
       "       [2, 2]])"
      ]
     },
     "execution_count": 113,
     "metadata": {},
     "output_type": "execute_result"
    }
   ],
   "source": [
    "b = np.array([[1, 1], [2, 2]])\n",
    "b"
   ]
  },
  {
   "cell_type": "markdown",
   "id": "47de354f-d6fc-4f84-93e1-44351bfca9ee",
   "metadata": {},
   "source": [
    "**We can sum over the axis of rows with:**"
   ]
  },
  {
   "cell_type": "code",
   "execution_count": 114,
   "id": "05153070-1e98-45fa-b1f3-1e3c777d3071",
   "metadata": {},
   "outputs": [
    {
     "data": {
      "text/plain": [
       "array([3, 3])"
      ]
     },
     "execution_count": 114,
     "metadata": {},
     "output_type": "execute_result"
    }
   ],
   "source": [
    "b.sum(axis=0)"
   ]
  },
  {
   "cell_type": "markdown",
   "id": "48f2b609-239f-470a-9f99-09a0637a7515",
   "metadata": {},
   "source": [
    "**We can sum over the axis of columns with:**"
   ]
  },
  {
   "cell_type": "code",
   "execution_count": 115,
   "id": "e72e5df7-0b30-4b8c-af98-f91eac26602b",
   "metadata": {},
   "outputs": [
    {
     "data": {
      "text/plain": [
       "array([2, 4])"
      ]
     },
     "execution_count": 115,
     "metadata": {},
     "output_type": "execute_result"
    }
   ],
   "source": [
    "b.sum(axis=1)"
   ]
  },
  {
   "cell_type": "markdown",
   "id": "dbc0e771-a03d-4f0a-b902-844f576773bf",
   "metadata": {},
   "source": [
    "## Broadcasting"
   ]
  },
  {
   "cell_type": "markdown",
   "id": "fb400688-a608-4a3d-ac9a-3404fbbd42c2",
   "metadata": {},
   "source": [
    "**There are times when we might want to carry out an operation between an array and a single number**"
   ]
  },
  {
   "cell_type": "markdown",
   "id": "6f65c5ab-bbed-4a1b-b95a-9ce796a51780",
   "metadata": {},
   "source": [
    "**(also called an operation between a vector and a scalar) or between arrays of two different sizes.**"
   ]
  },
  {
   "cell_type": "markdown",
   "id": "1a851b79-aa06-424c-8007-7010876be16d",
   "metadata": {},
   "source": [
    "**For example, our array (we’ll call it “data”) might contain information about distance in miles**"
   ]
  },
  {
   "cell_type": "markdown",
   "id": "8a951a8b-779f-4337-ae95-773f73745137",
   "metadata": {},
   "source": [
    "**but we want to convert the information to kilometers.**"
   ]
  },
  {
   "cell_type": "markdown",
   "id": "43253b90-8b8b-45ad-bb18-d47906d424ed",
   "metadata": {},
   "source": [
    "**We can perform this operation with:**"
   ]
  },
  {
   "cell_type": "code",
   "execution_count": 116,
   "id": "d35d4b73-f54e-4d33-be4a-42eee3a6e359",
   "metadata": {},
   "outputs": [
    {
     "data": {
      "text/plain": [
       "array([1., 2.])"
      ]
     },
     "execution_count": 116,
     "metadata": {},
     "output_type": "execute_result"
    }
   ],
   "source": [
    "data = np.array([1.0, 2.0])\n",
    "data"
   ]
  },
  {
   "cell_type": "code",
   "execution_count": 117,
   "id": "d8a8d674-8a44-4c75-8979-65e23db01f15",
   "metadata": {},
   "outputs": [
    {
     "data": {
      "text/plain": [
       "array([1.6, 3.2])"
      ]
     },
     "execution_count": 117,
     "metadata": {},
     "output_type": "execute_result"
    }
   ],
   "source": [
    "data * 1.6"
   ]
  },
  {
   "cell_type": "markdown",
   "id": "58014d29-21ee-41d7-a76c-e1cf40f405eb",
   "metadata": {},
   "source": [
    "<img src='07_Broadcasting.PNG' width=\"700\" height=\"700\">"
   ]
  },
  {
   "cell_type": "markdown",
   "id": "cfb95bf2-49fa-482f-a324-d1185f0dc9c4",
   "metadata": {},
   "source": [
    "**NumPy understands that the multiplication should happen with each cell.**"
   ]
  },
  {
   "cell_type": "markdown",
   "id": "22d21517-ac34-4c0f-92ad-0294f3ed0133",
   "metadata": {},
   "source": [
    "**That concept is called broadcasting.**"
   ]
  },
  {
   "cell_type": "markdown",
   "id": "4b9c56d7-d9fd-4d7f-a8c2-fbdbeb2d8632",
   "metadata": {},
   "source": [
    "**Broadcasting is a mechanism that allows NumPy to perform operations on arrays of different shapes.**"
   ]
  },
  {
   "cell_type": "markdown",
   "id": "4b473afb-be62-441e-b853-2b0e72012ae8",
   "metadata": {},
   "source": [
    "**The dimensions of our array must be compatible, for example, when the dimensions of both arrays are equal**"
   ]
  },
  {
   "cell_type": "markdown",
   "id": "37f99ffa-2d69-4980-bf15-d1bc5815740c",
   "metadata": {},
   "source": [
    "**or when one of them is 1.**"
   ]
  },
  {
   "cell_type": "markdown",
   "id": "1a33cbec-368c-4159-954b-2a39b53f2cb2",
   "metadata": {},
   "source": [
    "**If the dimensions are not compatible, we will get a ValueError.**"
   ]
  },
  {
   "cell_type": "markdown",
   "id": "11e2f301-f6b9-4ac6-a529-679bb84acdd3",
   "metadata": {},
   "source": [
    "## Other useful array operations"
   ]
  },
  {
   "cell_type": "markdown",
   "id": "3169f4c3-4e48-45a2-bf03-787eef05ea2c",
   "metadata": {},
   "source": [
    "**lets discuss maximum, minimum, sum, mean, product, standard deviation, and more**"
   ]
  },
  {
   "cell_type": "code",
   "execution_count": 118,
   "id": "ee1feab7-606a-4305-b8ab-e0e27d6c5077",
   "metadata": {},
   "outputs": [
    {
     "data": {
      "text/plain": [
       "array([1., 2.])"
      ]
     },
     "execution_count": 118,
     "metadata": {},
     "output_type": "execute_result"
    }
   ],
   "source": [
    "data = np.array([1.0, 2.0])\n",
    "data"
   ]
  },
  {
   "cell_type": "code",
   "execution_count": 119,
   "id": "ee5c6fc5-7dc6-486f-8c34-4a692d79b0f7",
   "metadata": {},
   "outputs": [
    {
     "data": {
      "text/plain": [
       "2.0"
      ]
     },
     "execution_count": 119,
     "metadata": {},
     "output_type": "execute_result"
    }
   ],
   "source": [
    "data.max()"
   ]
  },
  {
   "cell_type": "code",
   "execution_count": 120,
   "id": "a9a7537b-f940-48d1-8404-e53661b1c7fb",
   "metadata": {},
   "outputs": [
    {
     "data": {
      "text/plain": [
       "1.0"
      ]
     },
     "execution_count": 120,
     "metadata": {},
     "output_type": "execute_result"
    }
   ],
   "source": [
    "data.min()"
   ]
  },
  {
   "cell_type": "code",
   "execution_count": 121,
   "id": "2928abc1-f8b4-4659-879a-d74e7ebea26d",
   "metadata": {},
   "outputs": [
    {
     "data": {
      "text/plain": [
       "3.0"
      ]
     },
     "execution_count": 121,
     "metadata": {},
     "output_type": "execute_result"
    }
   ],
   "source": [
    "data.sum()"
   ]
  },
  {
   "cell_type": "markdown",
   "id": "fbdea03e-f8ff-4939-bbdd-f811512bac89",
   "metadata": {},
   "source": [
    "<img src='08_MoreArray.PNG' width=\"700\" height=\"700\">"
   ]
  },
  {
   "cell_type": "code",
   "execution_count": 122,
   "id": "4fcf173d-96f2-414e-99cc-f437ac8085fe",
   "metadata": {},
   "outputs": [
    {
     "data": {
      "text/plain": [
       "array([[0.45053314, 0.17296777, 0.34376245, 0.5510652 ],\n",
       "       [0.54627315, 0.05093587, 0.40067661, 0.55645993],\n",
       "       [0.12697628, 0.82485143, 0.26590556, 0.56917101]])"
      ]
     },
     "execution_count": 122,
     "metadata": {},
     "output_type": "execute_result"
    }
   ],
   "source": [
    "a = np.array([[0.45053314, 0.17296777, 0.34376245, 0.5510652],\n",
    "              [0.54627315, 0.05093587, 0.40067661, 0.55645993],\n",
    "              [0.12697628, 0.82485143, 0.26590556, 0.56917101]])\n",
    "a"
   ]
  },
  {
   "cell_type": "markdown",
   "id": "229a8f0a-0d3c-43ee-ae8c-9b4707750a05",
   "metadata": {},
   "source": [
    "**It’s very common to want to aggregate along a row or column.**"
   ]
  },
  {
   "cell_type": "markdown",
   "id": "c612b132-4b52-4808-8f70-f30ffd5b7636",
   "metadata": {},
   "source": [
    "**By default, every NumPy aggregation function will return the aggregate of the entire array.**"
   ]
  },
  {
   "cell_type": "markdown",
   "id": "8ed9b786-b6b7-4b36-9990-5f9a5fdac180",
   "metadata": {},
   "source": [
    "**To find the sum or the minimum of the elements in our array, run:**"
   ]
  },
  {
   "cell_type": "code",
   "execution_count": 123,
   "id": "bc9f9054-aa0f-4e9d-9657-eceae8267b5f",
   "metadata": {},
   "outputs": [
    {
     "data": {
      "text/plain": [
       "4.8595784"
      ]
     },
     "execution_count": 123,
     "metadata": {},
     "output_type": "execute_result"
    }
   ],
   "source": [
    "a.sum()"
   ]
  },
  {
   "cell_type": "code",
   "execution_count": 124,
   "id": "ada3614d-b17d-4654-a119-65113ab8823e",
   "metadata": {},
   "outputs": [
    {
     "data": {
      "text/plain": [
       "0.05093587"
      ]
     },
     "execution_count": 124,
     "metadata": {},
     "output_type": "execute_result"
    }
   ],
   "source": [
    "a.min()"
   ]
  },
  {
   "cell_type": "markdown",
   "id": "53b7b56a-cdff-4824-b556-c6cb2b0458c9",
   "metadata": {},
   "source": [
    "**We can specify on which axis we want the aggregation function to be computed.**"
   ]
  },
  {
   "cell_type": "markdown",
   "id": "db1a2d99-20e7-4fe1-ace3-fe2e50f53d3b",
   "metadata": {},
   "source": [
    "**For example, we can find the minimum value within each column by specifying axis=0.**"
   ]
  },
  {
   "cell_type": "code",
   "execution_count": 125,
   "id": "04a0e2fe-22f1-437c-926e-5cd99c9ccd6d",
   "metadata": {},
   "outputs": [
    {
     "data": {
      "text/plain": [
       "array([0.12697628, 0.05093587, 0.26590556, 0.5510652 ])"
      ]
     },
     "execution_count": 125,
     "metadata": {},
     "output_type": "execute_result"
    }
   ],
   "source": [
    "a.min(axis=0)"
   ]
  },
  {
   "cell_type": "code",
   "execution_count": 126,
   "id": "84a95ebe-769a-4054-a2d0-21a5af9d82aa",
   "metadata": {},
   "outputs": [
    {
     "data": {
      "text/plain": [
       "array([0.17296777, 0.05093587, 0.12697628])"
      ]
     },
     "execution_count": 126,
     "metadata": {},
     "output_type": "execute_result"
    }
   ],
   "source": [
    "a.min(axis=1)"
   ]
  },
  {
   "cell_type": "markdown",
   "id": "e5d8d0c3-f305-43ea-9644-922ab2e1de96",
   "metadata": {},
   "source": [
    "## Creating Matrices"
   ]
  },
  {
   "cell_type": "markdown",
   "id": "6ef044fe-c05f-4f36-989c-3b7698d925b7",
   "metadata": {},
   "source": [
    "**We can pass Python lists of lists to create a 2-D array (or “matrix”) to represent them in NumPy.**"
   ]
  },
  {
   "cell_type": "code",
   "execution_count": 127,
   "id": "63e4e686-2cf3-4d79-a463-3f7d2551b09b",
   "metadata": {},
   "outputs": [
    {
     "data": {
      "text/plain": [
       "array([[1, 2],\n",
       "       [3, 4],\n",
       "       [5, 6]])"
      ]
     },
     "execution_count": 127,
     "metadata": {},
     "output_type": "execute_result"
    }
   ],
   "source": [
    "data = np.array([[1, 2], [3, 4], [5, 6]])\n",
    "data"
   ]
  },
  {
   "cell_type": "markdown",
   "id": "03484153-69a5-477c-82b8-a0fcda68aaf8",
   "metadata": {},
   "source": [
    "<img src='09_CreatingMatrices.PNG' width=\"700\" height=\"700\">"
   ]
  },
  {
   "cell_type": "markdown",
   "id": "17d2531e-1f96-480a-bf23-7a33d101aab5",
   "metadata": {},
   "source": [
    "**Indexing and slicing operations**"
   ]
  },
  {
   "cell_type": "code",
   "execution_count": 128,
   "id": "4dac9ad6-e2e0-4824-b2b7-f3dec6249bc3",
   "metadata": {},
   "outputs": [
    {
     "data": {
      "text/plain": [
       "2"
      ]
     },
     "execution_count": 128,
     "metadata": {},
     "output_type": "execute_result"
    }
   ],
   "source": [
    "data[0, 1]"
   ]
  },
  {
   "cell_type": "code",
   "execution_count": 129,
   "id": "bd1054e1-7c21-4731-977b-067676c73ae3",
   "metadata": {},
   "outputs": [
    {
     "data": {
      "text/plain": [
       "array([[3, 4],\n",
       "       [5, 6]])"
      ]
     },
     "execution_count": 129,
     "metadata": {},
     "output_type": "execute_result"
    }
   ],
   "source": [
    "data[1:3]"
   ]
  },
  {
   "cell_type": "code",
   "execution_count": 130,
   "id": "fb0fe73d-daeb-485a-9504-a489bb476960",
   "metadata": {},
   "outputs": [
    {
     "data": {
      "text/plain": [
       "array([1, 3])"
      ]
     },
     "execution_count": 130,
     "metadata": {},
     "output_type": "execute_result"
    }
   ],
   "source": [
    "data[0:2, 0]"
   ]
  },
  {
   "cell_type": "markdown",
   "id": "0de030b1-9edc-40af-bb44-3c6701f40d78",
   "metadata": {},
   "source": [
    "<img src='10_MatricesIndexingSlicing.PNG' width=\"700\" height=\"700\">"
   ]
  },
  {
   "cell_type": "markdown",
   "id": "8473449c-1c2b-4b4d-941d-fca76bc12c88",
   "metadata": {},
   "source": [
    "**We can aggregate matrices the same way we aggregated vectors:**"
   ]
  },
  {
   "cell_type": "code",
   "execution_count": 131,
   "id": "88a1a6f3-56c6-419d-b794-ff4bb9bfebc5",
   "metadata": {},
   "outputs": [
    {
     "data": {
      "text/plain": [
       "6"
      ]
     },
     "execution_count": 131,
     "metadata": {},
     "output_type": "execute_result"
    }
   ],
   "source": [
    "data.max()"
   ]
  },
  {
   "cell_type": "code",
   "execution_count": 132,
   "id": "f9b36960-ddeb-4251-867e-b97668598ce8",
   "metadata": {},
   "outputs": [
    {
     "data": {
      "text/plain": [
       "1"
      ]
     },
     "execution_count": 132,
     "metadata": {},
     "output_type": "execute_result"
    }
   ],
   "source": [
    "data.min()"
   ]
  },
  {
   "cell_type": "code",
   "execution_count": 133,
   "id": "1d3babbb-bb6a-4d7b-8436-f743bf8363b4",
   "metadata": {},
   "outputs": [
    {
     "data": {
      "text/plain": [
       "21"
      ]
     },
     "execution_count": 133,
     "metadata": {},
     "output_type": "execute_result"
    }
   ],
   "source": [
    "data.sum()"
   ]
  },
  {
   "cell_type": "markdown",
   "id": "faf672ec-0de1-47aa-8798-ad89b06315ae",
   "metadata": {},
   "source": [
    "<img src='11_MatricesAggregations.PNG' width=\"700\" height=\"700\">"
   ]
  },
  {
   "cell_type": "markdown",
   "id": "d149a8a7-a4db-4eb1-9889-b8a0adc019dd",
   "metadata": {},
   "source": [
    "**We can aggregate all the values in a matrix and**"
   ]
  },
  {
   "cell_type": "markdown",
   "id": "194038a3-797f-45ac-9552-379eec94a8d4",
   "metadata": {},
   "source": [
    "**we can aggregate them across columns or rows using the axis parameter.**"
   ]
  },
  {
   "cell_type": "code",
   "execution_count": 134,
   "id": "9c960b1d-68a9-40e9-9cac-b0e83472cc8d",
   "metadata": {},
   "outputs": [
    {
     "data": {
      "text/plain": [
       "array([[1, 2],\n",
       "       [5, 3],\n",
       "       [4, 6]])"
      ]
     },
     "execution_count": 134,
     "metadata": {},
     "output_type": "execute_result"
    }
   ],
   "source": [
    "data = np.array([[1, 2], [5, 3], [4, 6]])\n",
    "data"
   ]
  },
  {
   "cell_type": "code",
   "execution_count": 135,
   "id": "bc8241d4-4311-4dc9-920a-499c8287a789",
   "metadata": {},
   "outputs": [
    {
     "data": {
      "text/plain": [
       "array([5, 6])"
      ]
     },
     "execution_count": 135,
     "metadata": {},
     "output_type": "execute_result"
    }
   ],
   "source": [
    "data.max(axis=0)"
   ]
  },
  {
   "cell_type": "code",
   "execution_count": 136,
   "id": "b14fd78e-8d8c-498c-93c0-f94e107356a4",
   "metadata": {},
   "outputs": [
    {
     "data": {
      "text/plain": [
       "array([2, 5, 6])"
      ]
     },
     "execution_count": 136,
     "metadata": {},
     "output_type": "execute_result"
    }
   ],
   "source": [
    "data.max(axis=1)"
   ]
  },
  {
   "cell_type": "markdown",
   "id": "bd3bd4cb-3412-4f64-adf2-83d283113630",
   "metadata": {},
   "source": [
    "<img src='12_MatricesAggregationsAxis.PNG' width=\"700\" height=\"700\">"
   ]
  },
  {
   "cell_type": "markdown",
   "id": "9d61d5fc-74ab-499e-9bfd-b5a803c9e0d1",
   "metadata": {},
   "source": [
    "**Once we’ve created our matrices, we can add and multiply them using arithmetic operators**"
   ]
  },
  {
   "cell_type": "markdown",
   "id": "da3e0527-1d9e-4d23-9fcb-f5be5321cbba",
   "metadata": {},
   "source": [
    "**if we have two matrices that are the same size.**"
   ]
  },
  {
   "cell_type": "code",
   "execution_count": 137,
   "id": "df2a0559-43ab-46a0-9efc-97a3ac72e829",
   "metadata": {},
   "outputs": [
    {
     "data": {
      "text/plain": [
       "array([[1, 2],\n",
       "       [3, 4]])"
      ]
     },
     "execution_count": 137,
     "metadata": {},
     "output_type": "execute_result"
    }
   ],
   "source": [
    "data = np.array([[1, 2], [3, 4]])\n",
    "data"
   ]
  },
  {
   "cell_type": "code",
   "execution_count": 138,
   "id": "2eee58f2-859f-490d-8649-a94cec917920",
   "metadata": {},
   "outputs": [
    {
     "data": {
      "text/plain": [
       "array([[1, 1],\n",
       "       [1, 1]])"
      ]
     },
     "execution_count": 138,
     "metadata": {},
     "output_type": "execute_result"
    }
   ],
   "source": [
    "ones = np.array([[1, 1], [1, 1]])\n",
    "ones"
   ]
  },
  {
   "cell_type": "code",
   "execution_count": 139,
   "id": "19747b2e-20a9-4bf1-8e96-87dcab23f1e8",
   "metadata": {},
   "outputs": [
    {
     "data": {
      "text/plain": [
       "array([[2, 3],\n",
       "       [4, 5]])"
      ]
     },
     "execution_count": 139,
     "metadata": {},
     "output_type": "execute_result"
    }
   ],
   "source": [
    "data + ones"
   ]
  },
  {
   "cell_type": "markdown",
   "id": "5634c752-1f31-4050-975f-efa7b2e0f0ed",
   "metadata": {},
   "source": [
    "<img src='13_MatricesBasicAdditions.PNG' width=\"700\" height=\"700\">"
   ]
  },
  {
   "cell_type": "markdown",
   "id": "32f82c06-b4f5-4e56-9cc7-71f4642cc323",
   "metadata": {},
   "source": [
    "**We can do these arithmetic operations on matrices of different sizes, but**"
   ]
  },
  {
   "cell_type": "markdown",
   "id": "36edcfc7-636a-426f-9a7b-fe907b9cefde",
   "metadata": {},
   "source": [
    "**only if one matrix has only one column or one row.**"
   ]
  },
  {
   "cell_type": "markdown",
   "id": "ff9301fb-715b-4d1d-bef5-1a25ed2c1b6b",
   "metadata": {},
   "source": [
    "**In this case, NumPy will use its broadcast rules for the operation.**"
   ]
  },
  {
   "cell_type": "code",
   "execution_count": 140,
   "id": "2409da50-8ce6-4904-b785-c8761ce73765",
   "metadata": {},
   "outputs": [
    {
     "data": {
      "text/plain": [
       "array([[1, 2],\n",
       "       [3, 4],\n",
       "       [5, 6]])"
      ]
     },
     "execution_count": 140,
     "metadata": {},
     "output_type": "execute_result"
    }
   ],
   "source": [
    "data = np.array([[1, 2], [3, 4], [5, 6]])\n",
    "data"
   ]
  },
  {
   "cell_type": "code",
   "execution_count": 141,
   "id": "b9ab28db-753e-44b6-99ac-a0ff421a79ad",
   "metadata": {},
   "outputs": [
    {
     "data": {
      "text/plain": [
       "array([[1, 1]])"
      ]
     },
     "execution_count": 141,
     "metadata": {},
     "output_type": "execute_result"
    }
   ],
   "source": [
    "ones_row = np.array([[1, 1]])\n",
    "ones_row"
   ]
  },
  {
   "cell_type": "code",
   "execution_count": 142,
   "id": "898428be-828c-440f-b2be-f2cfd9a83dac",
   "metadata": {},
   "outputs": [
    {
     "data": {
      "text/plain": [
       "array([[2, 3],\n",
       "       [4, 5],\n",
       "       [6, 7]])"
      ]
     },
     "execution_count": 142,
     "metadata": {},
     "output_type": "execute_result"
    }
   ],
   "source": [
    "data + ones_row"
   ]
  },
  {
   "cell_type": "markdown",
   "id": "acaff21a-ba47-4498-acc0-cdb1a35b034d",
   "metadata": {},
   "source": [
    "<img src='14_MatricesAdditions.PNG' width=\"700\" height=\"700\">"
   ]
  },
  {
   "cell_type": "markdown",
   "id": "8bc46063-c8e2-477e-8a46-bfc5e0c0d523",
   "metadata": {},
   "source": [
    "## Initializing an array"
   ]
  },
  {
   "cell_type": "markdown",
   "id": "8e663919-a8eb-4250-8a65-9023866a1f78",
   "metadata": {},
   "source": [
    "**NumPy offers functions like ones() and zeros(), and the random.Generator class for**"
   ]
  },
  {
   "cell_type": "markdown",
   "id": "e9c63ec0-b0c5-4aae-84df-18f0764aebee",
   "metadata": {},
   "source": [
    "**random number generation for that.**"
   ]
  },
  {
   "cell_type": "markdown",
   "id": "c4e1e91c-9d1e-4c6e-9a03-9b68a0bed0ca",
   "metadata": {},
   "source": [
    "**All we need to do is pass in the number of elements we want it to generate:**"
   ]
  },
  {
   "cell_type": "code",
   "execution_count": 143,
   "id": "ab5dedf6-6c1f-43aa-867a-e7e493fa512c",
   "metadata": {},
   "outputs": [
    {
     "data": {
      "text/plain": [
       "array([1., 1., 1.])"
      ]
     },
     "execution_count": 143,
     "metadata": {},
     "output_type": "execute_result"
    }
   ],
   "source": [
    "np.ones(3)"
   ]
  },
  {
   "cell_type": "code",
   "execution_count": 144,
   "id": "1408bfd1-23bf-42aa-9dc6-d362bf955f3e",
   "metadata": {},
   "outputs": [
    {
     "data": {
      "text/plain": [
       "array([0., 0., 0.])"
      ]
     },
     "execution_count": 144,
     "metadata": {},
     "output_type": "execute_result"
    }
   ],
   "source": [
    "np.zeros(3)"
   ]
  },
  {
   "cell_type": "code",
   "execution_count": 145,
   "id": "162d3c2e-ff60-491f-91d4-d7284547356e",
   "metadata": {},
   "outputs": [
    {
     "data": {
      "text/plain": [
       "Generator(PCG64) at 0x23F12D3E0A0"
      ]
     },
     "execution_count": 145,
     "metadata": {},
     "output_type": "execute_result"
    }
   ],
   "source": [
    "rng = np.random.default_rng()\n",
    "rng"
   ]
  },
  {
   "cell_type": "code",
   "execution_count": 146,
   "id": "754b6c7d-b50d-424a-8f7d-9900553110de",
   "metadata": {},
   "outputs": [
    {
     "data": {
      "text/plain": [
       "array([0.68366281, 0.19557302, 0.14738312])"
      ]
     },
     "execution_count": 146,
     "metadata": {},
     "output_type": "execute_result"
    }
   ],
   "source": [
    "rng.random(3)"
   ]
  },
  {
   "cell_type": "code",
   "execution_count": 147,
   "id": "e4a61f9e-2046-4f9e-a7a7-4cc76be0b7f2",
   "metadata": {},
   "outputs": [
    {
     "data": {
      "text/plain": [
       "array([0.32173479, 0.87925563, 0.57343036])"
      ]
     },
     "execution_count": 147,
     "metadata": {},
     "output_type": "execute_result"
    }
   ],
   "source": [
    "np.random.random(3)"
   ]
  },
  {
   "cell_type": "markdown",
   "id": "42e94243-df52-4ee3-b761-c8248659fc85",
   "metadata": {},
   "source": [
    "<img src='15_InitializeArray.PNG' width=\"700\" height=\"700\">"
   ]
  },
  {
   "cell_type": "markdown",
   "id": "b4132bad-1638-4102-87af-7bad96daa6b3",
   "metadata": {},
   "source": [
    "**We can also use ones(), zeros(), and random() to create a 2D array if**"
   ]
  },
  {
   "cell_type": "markdown",
   "id": "fe66d104-a38f-4d0d-b375-b887f135d710",
   "metadata": {},
   "source": [
    "**we give them a tuple describing the dimensions of the matrix:**"
   ]
  },
  {
   "cell_type": "code",
   "execution_count": 148,
   "id": "f8d1752f-cc99-423f-a6f6-4f19470f2e75",
   "metadata": {},
   "outputs": [
    {
     "data": {
      "text/plain": [
       "array([[1., 1.],\n",
       "       [1., 1.],\n",
       "       [1., 1.]])"
      ]
     },
     "execution_count": 148,
     "metadata": {},
     "output_type": "execute_result"
    }
   ],
   "source": [
    "np.ones((3, 2))"
   ]
  },
  {
   "cell_type": "code",
   "execution_count": 149,
   "id": "e4337d6e-21ee-4189-8111-58f07e10f7b6",
   "metadata": {},
   "outputs": [
    {
     "data": {
      "text/plain": [
       "array([[0., 0.],\n",
       "       [0., 0.],\n",
       "       [0., 0.]])"
      ]
     },
     "execution_count": 149,
     "metadata": {},
     "output_type": "execute_result"
    }
   ],
   "source": [
    "np.zeros((3, 2))"
   ]
  },
  {
   "cell_type": "code",
   "execution_count": 150,
   "id": "9d9b6a87-c6df-4346-b397-9d1383625140",
   "metadata": {},
   "outputs": [
    {
     "data": {
      "text/plain": [
       "array([[0.19063474, 0.41482809],\n",
       "       [0.99332341, 0.25154786],\n",
       "       [0.3800421 , 0.45032334]])"
      ]
     },
     "execution_count": 150,
     "metadata": {},
     "output_type": "execute_result"
    }
   ],
   "source": [
    "rng.random((3, 2))"
   ]
  },
  {
   "cell_type": "code",
   "execution_count": 151,
   "id": "78803e71-9fd5-4295-bc46-8a5f5eccb0f4",
   "metadata": {},
   "outputs": [
    {
     "data": {
      "text/plain": [
       "array([[0.53258329, 0.98051542],\n",
       "       [0.66077285, 0.00177285],\n",
       "       [0.38416984, 0.01838985]])"
      ]
     },
     "execution_count": 151,
     "metadata": {},
     "output_type": "execute_result"
    }
   ],
   "source": [
    "np.random.random((3, 2))"
   ]
  },
  {
   "cell_type": "markdown",
   "id": "aadf0037-2ac7-4193-be6f-2c4d71f88b22",
   "metadata": {},
   "source": [
    "<img src='16_InitializeMatrices.PNG' width=\"700\" height=\"700\">"
   ]
  },
  {
   "cell_type": "markdown",
   "id": "8faac8cd-8fd0-485f-a83e-fd23ed36a8ad",
   "metadata": {},
   "source": [
    "**We can generate a 2 x 4 array of random integers between 0 and 4 with:**"
   ]
  },
  {
   "cell_type": "code",
   "execution_count": 152,
   "id": "6918730c-56d8-48bd-a6bf-aafc6a60247e",
   "metadata": {},
   "outputs": [
    {
     "data": {
      "text/plain": [
       "array([[4, 4, 0, 0],\n",
       "       [4, 1, 2, 4]], dtype=int64)"
      ]
     },
     "execution_count": 152,
     "metadata": {},
     "output_type": "execute_result"
    }
   ],
   "source": [
    "rng.integers(5, size=(2, 4)) "
   ]
  },
  {
   "cell_type": "markdown",
   "id": "9ba119d8-5e43-470b-ad44-d24d5d6d9ae1",
   "metadata": {},
   "source": [
    "## Unique items and counts"
   ]
  },
  {
   "cell_type": "markdown",
   "id": "471c4c26-4d99-4108-b570-0dfde27c9a6b",
   "metadata": {},
   "source": [
    "**We can find the unique elements in an array easily with np.unique.**"
   ]
  },
  {
   "cell_type": "code",
   "execution_count": 153,
   "id": "a139e2e0-3dea-469d-a9dd-435dda13ec28",
   "metadata": {},
   "outputs": [
    {
     "data": {
      "text/plain": [
       "array([11, 11, 12, 13, 14, 15, 16, 17, 12, 13, 11, 14, 18, 19, 20])"
      ]
     },
     "execution_count": 153,
     "metadata": {},
     "output_type": "execute_result"
    }
   ],
   "source": [
    "a = np.array([11, 11, 12, 13, 14, 15, 16, 17, 12, 13, 11, 14, 18, 19, 20])\n",
    "a"
   ]
  },
  {
   "cell_type": "code",
   "execution_count": 154,
   "id": "07f35c05-0fdd-4236-8c36-6c7f985f88bb",
   "metadata": {},
   "outputs": [
    {
     "data": {
      "text/plain": [
       "array([11, 12, 13, 14, 15, 16, 17, 18, 19, 20])"
      ]
     },
     "execution_count": 154,
     "metadata": {},
     "output_type": "execute_result"
    }
   ],
   "source": [
    "unique_values = np.unique(a)\n",
    "unique_values"
   ]
  },
  {
   "cell_type": "markdown",
   "id": "72a9f0f9-ae40-4656-a65b-0756a91db8d8",
   "metadata": {},
   "source": [
    "**To get the indices of unique values in a NumPy array**"
   ]
  },
  {
   "cell_type": "markdown",
   "id": "81289872-acd3-4a64-a3d4-ae1d3244cb20",
   "metadata": {},
   "source": [
    "**(an array of first index positions of unique values in the array),**"
   ]
  },
  {
   "cell_type": "markdown",
   "id": "1e317297-ce58-4879-aab6-5139c6f4fcb1",
   "metadata": {},
   "source": [
    "**just pass the return_index argument in np.unique() as well as our array.**"
   ]
  },
  {
   "cell_type": "code",
   "execution_count": 155,
   "id": "965d1278-c985-4aa5-b8f2-a5bcb3d38f74",
   "metadata": {},
   "outputs": [],
   "source": [
    "unique_values, indices_list = np.unique(a, return_index=True)"
   ]
  },
  {
   "cell_type": "code",
   "execution_count": 156,
   "id": "05fe80c2-28eb-4777-aa59-f521d2f8ae2c",
   "metadata": {},
   "outputs": [
    {
     "data": {
      "text/plain": [
       "array([11, 12, 13, 14, 15, 16, 17, 18, 19, 20])"
      ]
     },
     "execution_count": 156,
     "metadata": {},
     "output_type": "execute_result"
    }
   ],
   "source": [
    "unique_values"
   ]
  },
  {
   "cell_type": "code",
   "execution_count": 157,
   "id": "0233b528-d231-47f5-a852-4e621c90bf7b",
   "metadata": {},
   "outputs": [
    {
     "data": {
      "text/plain": [
       "array([ 0,  2,  3,  4,  5,  6,  7, 12, 13, 14], dtype=int64)"
      ]
     },
     "execution_count": 157,
     "metadata": {},
     "output_type": "execute_result"
    }
   ],
   "source": [
    "indices_list"
   ]
  },
  {
   "cell_type": "markdown",
   "id": "946b592f-e847-4009-b44c-f606c41782f7",
   "metadata": {},
   "source": [
    "**We can pass the return_counts argument in np.unique() along with**"
   ]
  },
  {
   "cell_type": "markdown",
   "id": "6ca518f5-d71a-4add-8e3d-181b28c04356",
   "metadata": {},
   "source": [
    "**our array to get the frequency count of unique values in a NumPy array.**"
   ]
  },
  {
   "cell_type": "code",
   "execution_count": 158,
   "id": "eccc2d40-3c98-4255-aa33-e69d8520120b",
   "metadata": {},
   "outputs": [
    {
     "data": {
      "text/plain": [
       "array([3, 2, 2, 2, 1, 1, 1, 1, 1, 1], dtype=int64)"
      ]
     },
     "execution_count": 158,
     "metadata": {},
     "output_type": "execute_result"
    }
   ],
   "source": [
    "unique_values, occurrence_count = np.unique(a, return_counts=True)\n",
    "occurrence_count"
   ]
  },
  {
   "cell_type": "markdown",
   "id": "0bd5b860-99b9-4ab7-b36a-3af542be6505",
   "metadata": {},
   "source": [
    "**lets try with matrices too**"
   ]
  },
  {
   "cell_type": "code",
   "execution_count": 159,
   "id": "614c4455-744e-4c69-a9e2-0bb602c3175a",
   "metadata": {},
   "outputs": [
    {
     "data": {
      "text/plain": [
       "array([[ 1,  2,  3,  4],\n",
       "       [ 5,  6,  7,  8],\n",
       "       [ 9, 10, 11, 12],\n",
       "       [ 1,  2,  3,  4]])"
      ]
     },
     "execution_count": 159,
     "metadata": {},
     "output_type": "execute_result"
    }
   ],
   "source": [
    "a_2d = np.array([[1, 2, 3, 4], [5, 6, 7, 8], [9, 10, 11, 12], [1, 2, 3, 4]])\n",
    "a_2d"
   ]
  },
  {
   "cell_type": "markdown",
   "id": "955d20fa-c68b-4f92-a3c1-bab6e4c4302e",
   "metadata": {},
   "source": [
    "**If the axis argument isn’t passed, our 2D array will be flattened.**"
   ]
  },
  {
   "cell_type": "code",
   "execution_count": 160,
   "id": "33a5acb9-a0e5-46da-8a98-62fc3d24baac",
   "metadata": {},
   "outputs": [
    {
     "data": {
      "text/plain": [
       "array([ 1,  2,  3,  4,  5,  6,  7,  8,  9, 10, 11, 12])"
      ]
     },
     "execution_count": 160,
     "metadata": {},
     "output_type": "execute_result"
    }
   ],
   "source": [
    "unique_values = np.unique(a_2d)\n",
    "unique_values"
   ]
  },
  {
   "cell_type": "markdown",
   "id": "530c2240-3035-4d72-8675-f2a0cabbd71d",
   "metadata": {},
   "source": [
    "**If we want to get the unique rows or columns, make sure to pass the axis argument.**"
   ]
  },
  {
   "cell_type": "markdown",
   "id": "e0dc8983-293f-4352-9bbf-5d44c1f713be",
   "metadata": {},
   "source": [
    "**To find the unique rows, specify axis=0 and for columns, specify axis=1.**"
   ]
  },
  {
   "cell_type": "code",
   "execution_count": 161,
   "id": "84d8e3f9-cd6b-4efb-951f-038284cb0a4c",
   "metadata": {},
   "outputs": [
    {
     "data": {
      "text/plain": [
       "array([[ 1,  2,  3,  4],\n",
       "       [ 5,  6,  7,  8],\n",
       "       [ 9, 10, 11, 12]])"
      ]
     },
     "execution_count": 161,
     "metadata": {},
     "output_type": "execute_result"
    }
   ],
   "source": [
    "unique_rows = np.unique(a_2d, axis=0)\n",
    "unique_rows"
   ]
  },
  {
   "cell_type": "code",
   "execution_count": 162,
   "id": "df9620b8-aa7c-48ff-8a43-d361381694bf",
   "metadata": {},
   "outputs": [
    {
     "data": {
      "text/plain": [
       "array([[ 1,  2,  3,  4],\n",
       "       [ 5,  6,  7,  8],\n",
       "       [ 9, 10, 11, 12],\n",
       "       [ 1,  2,  3,  4]])"
      ]
     },
     "execution_count": 162,
     "metadata": {},
     "output_type": "execute_result"
    }
   ],
   "source": [
    "unique_cols = np.unique(a_2d, axis=1)\n",
    "unique_cols"
   ]
  },
  {
   "cell_type": "markdown",
   "id": "b1747b70-f90d-4749-b5e1-2661fe5a962c",
   "metadata": {},
   "source": [
    "**To get the unique rows, index position, and occurrence count, we can use:**"
   ]
  },
  {
   "cell_type": "code",
   "execution_count": 163,
   "id": "9deada1f-18d2-41dd-82ed-37cafa4e2134",
   "metadata": {},
   "outputs": [],
   "source": [
    "unique_rows, indices, occurrence_count = np.unique(\n",
    "     a_2d, axis=0, return_counts=True, return_index=True)"
   ]
  },
  {
   "cell_type": "code",
   "execution_count": 164,
   "id": "37fff7c0-73a1-4567-893e-f4044864c541",
   "metadata": {},
   "outputs": [
    {
     "data": {
      "text/plain": [
       "array([[ 1,  2,  3,  4],\n",
       "       [ 5,  6,  7,  8],\n",
       "       [ 9, 10, 11, 12]])"
      ]
     },
     "execution_count": 164,
     "metadata": {},
     "output_type": "execute_result"
    }
   ],
   "source": [
    "unique_rows"
   ]
  },
  {
   "cell_type": "code",
   "execution_count": 165,
   "id": "c288412c-05ff-47a7-9c43-91ad0dd44b59",
   "metadata": {},
   "outputs": [
    {
     "data": {
      "text/plain": [
       "array([0, 1, 2], dtype=int64)"
      ]
     },
     "execution_count": 165,
     "metadata": {},
     "output_type": "execute_result"
    }
   ],
   "source": [
    "indices"
   ]
  },
  {
   "cell_type": "code",
   "execution_count": 166,
   "id": "5129d692-84fb-4ea6-abf1-6b7b3e9d9281",
   "metadata": {},
   "outputs": [
    {
     "data": {
      "text/plain": [
       "array([2, 1, 1], dtype=int64)"
      ]
     },
     "execution_count": 166,
     "metadata": {},
     "output_type": "execute_result"
    }
   ],
   "source": [
    "occurrence_count"
   ]
  },
  {
   "cell_type": "markdown",
   "id": "674b2915-5660-40c5-8e9d-995a3a87679b",
   "metadata": {},
   "source": [
    "## Transposing and reshaping a matrix"
   ]
  },
  {
   "cell_type": "markdown",
   "id": "64372c29-2123-49d7-8229-a866c062f7d1",
   "metadata": {},
   "source": [
    "**lets discuss arr.reshape(), arr.transpose(), arr.T**"
   ]
  },
  {
   "cell_type": "code",
   "execution_count": 167,
   "id": "10a38ceb-177f-47dc-8bd6-352db421e6c7",
   "metadata": {},
   "outputs": [
    {
     "data": {
      "text/plain": [
       "array([[1, 2],\n",
       "       [3, 4],\n",
       "       [5, 6]])"
      ]
     },
     "execution_count": 167,
     "metadata": {},
     "output_type": "execute_result"
    }
   ],
   "source": [
    "data = np.array([[1, 2], [3, 4], [5, 6]])\n",
    "data"
   ]
  },
  {
   "cell_type": "code",
   "execution_count": 168,
   "id": "d091ea45-a86e-46a6-98b2-879323c7bb9f",
   "metadata": {},
   "outputs": [
    {
     "data": {
      "text/plain": [
       "array([[1, 3, 5],\n",
       "       [2, 4, 6]])"
      ]
     },
     "execution_count": 168,
     "metadata": {},
     "output_type": "execute_result"
    }
   ],
   "source": [
    "data.T"
   ]
  },
  {
   "cell_type": "markdown",
   "id": "9c0d3577-0c7b-49c1-b76e-c66c13f34c02",
   "metadata": {},
   "source": [
    "<img src='17_TransposeMatrices.PNG' width=\"700\" height=\"700\">"
   ]
  },
  {
   "cell_type": "markdown",
   "id": "6893cadd-b6c3-49da-9224-8ee6be2897ad",
   "metadata": {},
   "source": [
    "**We can use reshape to switch the dimensions of a matrix**"
   ]
  },
  {
   "cell_type": "code",
   "execution_count": 169,
   "id": "a1b3a3ce-1915-4167-ac28-65795592f8ed",
   "metadata": {},
   "outputs": [
    {
     "data": {
      "text/plain": [
       "array([[1, 2, 3],\n",
       "       [4, 5, 6]])"
      ]
     },
     "execution_count": 169,
     "metadata": {},
     "output_type": "execute_result"
    }
   ],
   "source": [
    "data.reshape(2, 3)"
   ]
  },
  {
   "cell_type": "code",
   "execution_count": 170,
   "id": "81ab460f-7acb-4fd7-96da-48675296d6e7",
   "metadata": {},
   "outputs": [
    {
     "data": {
      "text/plain": [
       "array([[1, 2],\n",
       "       [3, 4],\n",
       "       [5, 6]])"
      ]
     },
     "execution_count": 170,
     "metadata": {},
     "output_type": "execute_result"
    }
   ],
   "source": [
    "data.reshape(3,2)"
   ]
  },
  {
   "cell_type": "markdown",
   "id": "6c531592-eb6b-43dd-9295-277f3df3cbec",
   "metadata": {},
   "source": [
    "<img src='18_Reshape.PNG' width=\"700\" height=\"700\">"
   ]
  },
  {
   "cell_type": "markdown",
   "id": "4c20d086-a99c-48c4-8544-847634dcd920",
   "metadata": {},
   "source": [
    "**We can also use .transpose() to reverse or**"
   ]
  },
  {
   "cell_type": "markdown",
   "id": "8748b97c-d5ea-4f17-b694-31c589d4f4dd",
   "metadata": {},
   "source": [
    "**change the axes of an array according to the values we specify.**"
   ]
  },
  {
   "cell_type": "code",
   "execution_count": 171,
   "id": "d2c55573-3427-426d-b838-e2497b22c2a0",
   "metadata": {},
   "outputs": [
    {
     "data": {
      "text/plain": [
       "array([[0, 1, 2],\n",
       "       [3, 4, 5]])"
      ]
     },
     "execution_count": 171,
     "metadata": {},
     "output_type": "execute_result"
    }
   ],
   "source": [
    "arr = np.arange(6).reshape((2, 3))\n",
    "arr"
   ]
  },
  {
   "cell_type": "code",
   "execution_count": 172,
   "id": "050ffe9a-e404-497b-9243-5dff8be936ca",
   "metadata": {},
   "outputs": [
    {
     "data": {
      "text/plain": [
       "array([[0, 3],\n",
       "       [1, 4],\n",
       "       [2, 5]])"
      ]
     },
     "execution_count": 172,
     "metadata": {},
     "output_type": "execute_result"
    }
   ],
   "source": [
    "arr.transpose()"
   ]
  },
  {
   "cell_type": "code",
   "execution_count": 173,
   "id": "41acd17b-11d4-480c-9046-dec6a7cc02cb",
   "metadata": {},
   "outputs": [
    {
     "data": {
      "text/plain": [
       "array([[0, 3],\n",
       "       [1, 4],\n",
       "       [2, 5]])"
      ]
     },
     "execution_count": 173,
     "metadata": {},
     "output_type": "execute_result"
    }
   ],
   "source": [
    "arr.T"
   ]
  },
  {
   "cell_type": "markdown",
   "id": "d4f0c8e5-787e-4f4e-94e1-3c967e930ddf",
   "metadata": {},
   "source": [
    "## Reverse an array"
   ]
  },
  {
   "cell_type": "markdown",
   "id": "f10759b5-b142-4f69-bba5-0de113e4ee49",
   "metadata": {},
   "source": [
    "**NumPy’s np.flip() function allows us to flip, or reverse, the contents of an array along an axis.**"
   ]
  },
  {
   "cell_type": "markdown",
   "id": "9a275657-a574-4f3a-bd7b-5dec8b22211c",
   "metadata": {},
   "source": [
    "**When using np.flip(), specify the array we would like to reverse and the axis.**"
   ]
  },
  {
   "cell_type": "markdown",
   "id": "e318fac5-f172-4c1d-8596-52978542ff6e",
   "metadata": {},
   "source": [
    "**If we don’t specify the axis, NumPy will reverse the contents along all of the axes of our input array.**"
   ]
  },
  {
   "cell_type": "code",
   "execution_count": 174,
   "id": "28117c2e-a5a7-4091-8390-5027286b103d",
   "metadata": {},
   "outputs": [
    {
     "data": {
      "text/plain": [
       "array([1, 2, 3, 4, 5, 6, 7, 8])"
      ]
     },
     "execution_count": 174,
     "metadata": {},
     "output_type": "execute_result"
    }
   ],
   "source": [
    "arr = np.array([1, 2, 3, 4, 5, 6, 7, 8])\n",
    "arr"
   ]
  },
  {
   "cell_type": "code",
   "execution_count": 175,
   "id": "763c62b1-5f23-4a90-a5b4-d922982a12e9",
   "metadata": {},
   "outputs": [
    {
     "data": {
      "text/plain": [
       "array([8, 7, 6, 5, 4, 3, 2, 1])"
      ]
     },
     "execution_count": 175,
     "metadata": {},
     "output_type": "execute_result"
    }
   ],
   "source": [
    "np.flip(arr)"
   ]
  },
  {
   "cell_type": "markdown",
   "id": "855e099b-299c-400e-83c3-0923973ed969",
   "metadata": {},
   "source": [
    "**2D array**"
   ]
  },
  {
   "cell_type": "code",
   "execution_count": 176,
   "id": "cb33190f-1e41-45f2-8a7b-abc9499a11cb",
   "metadata": {},
   "outputs": [
    {
     "data": {
      "text/plain": [
       "array([[ 1,  2,  3,  4],\n",
       "       [ 5,  6,  7,  8],\n",
       "       [ 9, 10, 11, 12]])"
      ]
     },
     "execution_count": 176,
     "metadata": {},
     "output_type": "execute_result"
    }
   ],
   "source": [
    "arr_2d = np.array([[1, 2, 3, 4], [5, 6, 7, 8], [9, 10, 11, 12]])\n",
    "arr_2d"
   ]
  },
  {
   "cell_type": "code",
   "execution_count": 177,
   "id": "eb6ca3de-c59b-4e69-8174-ebd3637a7e2c",
   "metadata": {},
   "outputs": [
    {
     "data": {
      "text/plain": [
       "array([[12, 11, 10,  9],\n",
       "       [ 8,  7,  6,  5],\n",
       "       [ 4,  3,  2,  1]])"
      ]
     },
     "execution_count": 177,
     "metadata": {},
     "output_type": "execute_result"
    }
   ],
   "source": [
    "np.flip(arr_2d)"
   ]
  },
  {
   "cell_type": "markdown",
   "id": "134533a2-2b17-446e-b8ce-c14eef555d46",
   "metadata": {},
   "source": [
    "**reverse only rows**"
   ]
  },
  {
   "cell_type": "code",
   "execution_count": 178,
   "id": "52e0e8e8-d0b7-45f3-b92c-a0c47f86ddee",
   "metadata": {},
   "outputs": [
    {
     "data": {
      "text/plain": [
       "array([[ 9, 10, 11, 12],\n",
       "       [ 5,  6,  7,  8],\n",
       "       [ 1,  2,  3,  4]])"
      ]
     },
     "execution_count": 178,
     "metadata": {},
     "output_type": "execute_result"
    }
   ],
   "source": [
    "np.flip(arr_2d, axis=0)"
   ]
  },
  {
   "cell_type": "markdown",
   "id": "ec5b287f-9baf-4285-8409-da3ef310d3b8",
   "metadata": {},
   "source": [
    "**reverse only columns**"
   ]
  },
  {
   "cell_type": "code",
   "execution_count": 179,
   "id": "4c7c1afc-89af-4332-a204-080569e9702e",
   "metadata": {},
   "outputs": [
    {
     "data": {
      "text/plain": [
       "array([[ 4,  3,  2,  1],\n",
       "       [ 8,  7,  6,  5],\n",
       "       [12, 11, 10,  9]])"
      ]
     },
     "execution_count": 179,
     "metadata": {},
     "output_type": "execute_result"
    }
   ],
   "source": [
    "np.flip(arr_2d, axis=1)"
   ]
  },
  {
   "cell_type": "markdown",
   "id": "15a49f20-c9fb-405f-b084-9d33ed93499a",
   "metadata": {},
   "source": [
    "**We can also reverse the contents of only one column or row.**"
   ]
  },
  {
   "cell_type": "code",
   "execution_count": 180,
   "id": "08723bc2-53f5-477e-b36b-9656ff1c61c6",
   "metadata": {},
   "outputs": [
    {
     "data": {
      "text/plain": [
       "array([[ 1,  2,  3,  4],\n",
       "       [ 8,  7,  6,  5],\n",
       "       [ 9, 10, 11, 12]])"
      ]
     },
     "execution_count": 180,
     "metadata": {},
     "output_type": "execute_result"
    }
   ],
   "source": [
    "arr_2d[1] = np.flip(arr_2d[1])\n",
    "arr_2d"
   ]
  },
  {
   "cell_type": "code",
   "execution_count": 181,
   "id": "ff3cb042-bbdb-49b0-92ce-7ed656b21745",
   "metadata": {},
   "outputs": [
    {
     "data": {
      "text/plain": [
       "array([[ 1, 10,  3,  4],\n",
       "       [ 8,  7,  6,  5],\n",
       "       [ 9,  2, 11, 12]])"
      ]
     },
     "execution_count": 181,
     "metadata": {},
     "output_type": "execute_result"
    }
   ],
   "source": [
    "arr_2d[:,1] = np.flip(arr_2d[:,1])\n",
    "arr_2d"
   ]
  },
  {
   "cell_type": "markdown",
   "id": "10d9a65e-5251-4f39-91f2-8217ccf397e1",
   "metadata": {},
   "source": [
    "## Reshaping and flattening multidimensional arrays"
   ]
  },
  {
   "cell_type": "markdown",
   "id": "c4bc7a78-cfd8-4594-876a-977cdce25df1",
   "metadata": {},
   "source": [
    "**Lets discuss flatten(), ravel()**"
   ]
  },
  {
   "cell_type": "markdown",
   "id": "50368739-4e25-4b1c-a363-6ee255b844f4",
   "metadata": {},
   "source": [
    "**The primary difference between the two is that the new array created using ravel() is**"
   ]
  },
  {
   "cell_type": "markdown",
   "id": "4e358cad-90d4-4f0c-928d-390a445e55f2",
   "metadata": {},
   "source": [
    "**actually a reference to the parent array (i.e., a “view”).**"
   ]
  },
  {
   "cell_type": "markdown",
   "id": "ca82d27f-f7cc-4dac-940e-8872c8d21185",
   "metadata": {},
   "source": [
    "**This means that any changes to the new array will affect the parent array as well.**"
   ]
  },
  {
   "cell_type": "markdown",
   "id": "6a4a1dc0-5a3d-4258-8bb3-be668ec51987",
   "metadata": {},
   "source": [
    "**Since ravel does not create a copy, it’s memory efficient.**"
   ]
  },
  {
   "cell_type": "code",
   "execution_count": 182,
   "id": "6424eba5-d80e-45b1-a5af-c5fdcb07a471",
   "metadata": {},
   "outputs": [
    {
     "data": {
      "text/plain": [
       "array([[ 1,  2,  3,  4],\n",
       "       [ 5,  6,  7,  8],\n",
       "       [ 9, 10, 11, 12]])"
      ]
     },
     "execution_count": 182,
     "metadata": {},
     "output_type": "execute_result"
    }
   ],
   "source": [
    "x = np.array([[1 , 2, 3, 4], [5, 6, 7, 8], [9, 10, 11, 12]])\n",
    "x"
   ]
  },
  {
   "cell_type": "code",
   "execution_count": 183,
   "id": "bf1bb681-09d7-41f3-8c6b-ed030e380db0",
   "metadata": {},
   "outputs": [
    {
     "data": {
      "text/plain": [
       "array([ 1,  2,  3,  4,  5,  6,  7,  8,  9, 10, 11, 12])"
      ]
     },
     "execution_count": 183,
     "metadata": {},
     "output_type": "execute_result"
    }
   ],
   "source": [
    "x.flatten()"
   ]
  },
  {
   "cell_type": "markdown",
   "id": "273bc277-d1aa-445a-91ee-ec5dc3a79952",
   "metadata": {},
   "source": [
    "**When we use flatten, changes to our new array won’t change the parent array.**"
   ]
  },
  {
   "cell_type": "code",
   "execution_count": 184,
   "id": "145ac9a2-5246-4c2c-a28f-3094124b2c17",
   "metadata": {},
   "outputs": [
    {
     "data": {
      "text/plain": [
       "array([ 1,  2,  3,  4,  5,  6,  7,  8,  9, 10, 11, 12])"
      ]
     },
     "execution_count": 184,
     "metadata": {},
     "output_type": "execute_result"
    }
   ],
   "source": [
    "a1 = x.flatten()\n",
    "a1"
   ]
  },
  {
   "cell_type": "code",
   "execution_count": 185,
   "id": "5420514a-adb6-435c-aa97-7d62b0bad436",
   "metadata": {},
   "outputs": [
    {
     "data": {
      "text/plain": [
       "array([99,  2,  3,  4,  5,  6,  7,  8,  9, 10, 11, 12])"
      ]
     },
     "execution_count": 185,
     "metadata": {},
     "output_type": "execute_result"
    }
   ],
   "source": [
    "a1[0] = 99\n",
    "a1"
   ]
  },
  {
   "cell_type": "code",
   "execution_count": 186,
   "id": "3c45f4cd-32dd-4cd0-80d1-cfa7f73b801f",
   "metadata": {},
   "outputs": [
    {
     "data": {
      "text/plain": [
       "array([[ 1,  2,  3,  4],\n",
       "       [ 5,  6,  7,  8],\n",
       "       [ 9, 10, 11, 12]])"
      ]
     },
     "execution_count": 186,
     "metadata": {},
     "output_type": "execute_result"
    }
   ],
   "source": [
    "x"
   ]
  },
  {
   "cell_type": "markdown",
   "id": "df1af261-038a-49a1-b6cb-bd412ccd629f",
   "metadata": {},
   "source": [
    "**But when we use ravel, the changes we make to the new array will affect the parent array.**"
   ]
  },
  {
   "cell_type": "code",
   "execution_count": 187,
   "id": "515abc2a-ceb0-43d6-bb6e-8650db009003",
   "metadata": {},
   "outputs": [
    {
     "data": {
      "text/plain": [
       "array([ 1,  2,  3,  4,  5,  6,  7,  8,  9, 10, 11, 12])"
      ]
     },
     "execution_count": 187,
     "metadata": {},
     "output_type": "execute_result"
    }
   ],
   "source": [
    "a2 = x.ravel()\n",
    "a2"
   ]
  },
  {
   "cell_type": "code",
   "execution_count": 188,
   "id": "918c2368-d11f-419f-9353-70b8f1adcb0e",
   "metadata": {},
   "outputs": [
    {
     "data": {
      "text/plain": [
       "array([99,  2,  3,  4,  5,  6,  7,  8,  9, 10, 11, 12])"
      ]
     },
     "execution_count": 188,
     "metadata": {},
     "output_type": "execute_result"
    }
   ],
   "source": [
    "a2[0] = 99\n",
    "a2"
   ]
  },
  {
   "cell_type": "code",
   "execution_count": 189,
   "id": "19a5e71b-d031-4554-971d-a66519174f72",
   "metadata": {},
   "outputs": [
    {
     "data": {
      "text/plain": [
       "array([[99,  2,  3,  4],\n",
       "       [ 5,  6,  7,  8],\n",
       "       [ 9, 10, 11, 12]])"
      ]
     },
     "execution_count": 189,
     "metadata": {},
     "output_type": "execute_result"
    }
   ],
   "source": [
    "x"
   ]
  },
  {
   "cell_type": "markdown",
   "id": "f6e6d087-b295-4a85-9ca7-80376da13047",
   "metadata": {},
   "source": [
    "## Docstring"
   ]
  },
  {
   "cell_type": "markdown",
   "id": "65a2d437-674c-4a70-8e01-169dd0bbaf41",
   "metadata": {},
   "source": [
    "**Docstring contains a quick and concise summary of the object and how to use it.**"
   ]
  },
  {
   "cell_type": "markdown",
   "id": "16bfb164-3aa8-4928-baa9-71a7e4117993",
   "metadata": {},
   "source": [
    "**Python has a built-in help() function that can help you access this information.**"
   ]
  },
  {
   "cell_type": "code",
   "execution_count": 190,
   "id": "b5fe7c7b-e139-4511-b53d-7ddd2afd2afb",
   "metadata": {},
   "outputs": [
    {
     "name": "stdout",
     "output_type": "stream",
     "text": [
      "Help on built-in function max in module builtins:\n",
      "\n",
      "max(...)\n",
      "    max(iterable, *[, default=obj, key=func]) -> value\n",
      "    max(arg1, arg2, *args, *[, key=func]) -> value\n",
      "    \n",
      "    With a single iterable argument, return its biggest item. The\n",
      "    default keyword-only argument specifies an object to return if\n",
      "    the provided iterable is empty.\n",
      "    With two or more arguments, return the largest argument.\n",
      "\n"
     ]
    }
   ],
   "source": [
    "help(max)"
   ]
  },
  {
   "cell_type": "code",
   "execution_count": 191,
   "id": "8889a9c7-00de-4e71-9c15-06133f9b0105",
   "metadata": {},
   "outputs": [
    {
     "data": {
      "text/plain": [
       "\u001b[1;31mDocstring:\u001b[0m\n",
       "max(iterable, *[, default=obj, key=func]) -> value\n",
       "max(arg1, arg2, *args, *[, key=func]) -> value\n",
       "\n",
       "With a single iterable argument, return its biggest item. The\n",
       "default keyword-only argument specifies an object to return if\n",
       "the provided iterable is empty.\n",
       "With two or more arguments, return the largest argument.\n",
       "\u001b[1;31mType:\u001b[0m      builtin_function_or_method"
      ]
     },
     "metadata": {},
     "output_type": "display_data"
    }
   ],
   "source": [
    "max?"
   ]
  },
  {
   "cell_type": "code",
   "execution_count": 192,
   "id": "311d481c-9c23-4501-9acb-04c06490582b",
   "metadata": {},
   "outputs": [
    {
     "data": {
      "text/plain": [
       "array([1, 2, 3, 4, 5, 6])"
      ]
     },
     "execution_count": 192,
     "metadata": {},
     "output_type": "execute_result"
    }
   ],
   "source": [
    "a = np.array([1, 2, 3, 4, 5, 6])\n",
    "a"
   ]
  },
  {
   "cell_type": "code",
   "execution_count": 193,
   "id": "b91f027b-83a1-4db9-ae9d-08c891627836",
   "metadata": {},
   "outputs": [
    {
     "data": {
      "text/plain": [
       "\u001b[1;31mType:\u001b[0m        ndarray\n",
       "\u001b[1;31mString form:\u001b[0m [1 2 3 4 5 6]\n",
       "\u001b[1;31mLength:\u001b[0m      6\n",
       "\u001b[1;31mFile:\u001b[0m        c:\\users\\rishi\\anaconda3\\envs\\alexander\\lib\\site-packages\\numpy\\__init__.py\n",
       "\u001b[1;31mDocstring:\u001b[0m  \n",
       "ndarray(shape, dtype=float, buffer=None, offset=0,\n",
       "        strides=None, order=None)\n",
       "\n",
       "An array object represents a multidimensional, homogeneous array\n",
       "of fixed-size items.  An associated data-type object describes the\n",
       "format of each element in the array (its byte-order, how many bytes it\n",
       "occupies in memory, whether it is an integer, a floating point number,\n",
       "or something else, etc.)\n",
       "\n",
       "Arrays should be constructed using `array`, `zeros` or `empty` (refer\n",
       "to the See Also section below).  The parameters given here refer to\n",
       "a low-level method (`ndarray(...)`) for instantiating an array.\n",
       "\n",
       "For more information, refer to the `numpy` module and examine the\n",
       "methods and attributes of an array.\n",
       "\n",
       "Parameters\n",
       "----------\n",
       "(for the __new__ method; see Notes below)\n",
       "\n",
       "shape : tuple of ints\n",
       "    Shape of created array.\n",
       "dtype : data-type, optional\n",
       "    Any object that can be interpreted as a numpy data type.\n",
       "buffer : object exposing buffer interface, optional\n",
       "    Used to fill the array with data.\n",
       "offset : int, optional\n",
       "    Offset of array data in buffer.\n",
       "strides : tuple of ints, optional\n",
       "    Strides of data in memory.\n",
       "order : {'C', 'F'}, optional\n",
       "    Row-major (C-style) or column-major (Fortran-style) order.\n",
       "\n",
       "Attributes\n",
       "----------\n",
       "T : ndarray\n",
       "    Transpose of the array.\n",
       "data : buffer\n",
       "    The array's elements, in memory.\n",
       "dtype : dtype object\n",
       "    Describes the format of the elements in the array.\n",
       "flags : dict\n",
       "    Dictionary containing information related to memory use, e.g.,\n",
       "    'C_CONTIGUOUS', 'OWNDATA', 'WRITEABLE', etc.\n",
       "flat : numpy.flatiter object\n",
       "    Flattened version of the array as an iterator.  The iterator\n",
       "    allows assignments, e.g., ``x.flat = 3`` (See `ndarray.flat` for\n",
       "    assignment examples; TODO).\n",
       "imag : ndarray\n",
       "    Imaginary part of the array.\n",
       "real : ndarray\n",
       "    Real part of the array.\n",
       "size : int\n",
       "    Number of elements in the array.\n",
       "itemsize : int\n",
       "    The memory use of each array element in bytes.\n",
       "nbytes : int\n",
       "    The total number of bytes required to store the array data,\n",
       "    i.e., ``itemsize * size``.\n",
       "ndim : int\n",
       "    The array's number of dimensions.\n",
       "shape : tuple of ints\n",
       "    Shape of the array.\n",
       "strides : tuple of ints\n",
       "    The step-size required to move from one element to the next in\n",
       "    memory. For example, a contiguous ``(3, 4)`` array of type\n",
       "    ``int16`` in C-order has strides ``(8, 2)``.  This implies that\n",
       "    to move from element to element in memory requires jumps of 2 bytes.\n",
       "    To move from row-to-row, one needs to jump 8 bytes at a time\n",
       "    (``2 * 4``).\n",
       "ctypes : ctypes object\n",
       "    Class containing properties of the array needed for interaction\n",
       "    with ctypes.\n",
       "base : ndarray\n",
       "    If the array is a view into another array, that array is its `base`\n",
       "    (unless that array is also a view).  The `base` array is where the\n",
       "    array data is actually stored.\n",
       "\n",
       "See Also\n",
       "--------\n",
       "array : Construct an array.\n",
       "zeros : Create an array, each element of which is zero.\n",
       "empty : Create an array, but leave its allocated memory unchanged (i.e.,\n",
       "        it contains \"garbage\").\n",
       "dtype : Create a data-type.\n",
       "numpy.typing.NDArray : An ndarray alias :term:`generic <generic type>`\n",
       "                       w.r.t. its `dtype.type <numpy.dtype.type>`.\n",
       "\n",
       "Notes\n",
       "-----\n",
       "There are two modes of creating an array using ``__new__``:\n",
       "\n",
       "1. If `buffer` is None, then only `shape`, `dtype`, and `order`\n",
       "   are used.\n",
       "2. If `buffer` is an object exposing the buffer interface, then\n",
       "   all keywords are interpreted.\n",
       "\n",
       "No ``__init__`` method is needed because the array is fully initialized\n",
       "after the ``__new__`` method.\n",
       "\n",
       "Examples\n",
       "--------\n",
       "These examples illustrate the low-level `ndarray` constructor.  Refer\n",
       "to the `See Also` section above for easier ways of constructing an\n",
       "ndarray.\n",
       "\n",
       "First mode, `buffer` is None:\n",
       "\n",
       ">>> np.ndarray(shape=(2,2), dtype=float, order='F')\n",
       "array([[0.0e+000, 0.0e+000], # random\n",
       "       [     nan, 2.5e-323]])\n",
       "\n",
       "Second mode:\n",
       "\n",
       ">>> np.ndarray((2,), buffer=np.array([1,2,3]),\n",
       "...            offset=np.int_().itemsize,\n",
       "...            dtype=int) # offset = 1*itemsize, i.e. skip first element\n",
       "array([2, 3])"
      ]
     },
     "metadata": {},
     "output_type": "display_data"
    }
   ],
   "source": [
    "a?"
   ]
  },
  {
   "cell_type": "markdown",
   "id": "56815e31-8784-488a-b92a-90d65efcb47b",
   "metadata": {},
   "source": [
    "**We can also include a docstring in our own functions**"
   ]
  },
  {
   "cell_type": "code",
   "execution_count": 194,
   "id": "36165231-3e4f-46a6-bf5a-9ede824d14a4",
   "metadata": {},
   "outputs": [],
   "source": [
    "def twice(num):\n",
    "    '''Return num * 2'''\n",
    "    return num * 2"
   ]
  },
  {
   "cell_type": "code",
   "execution_count": 195,
   "id": "67c253e1-bb51-4ee1-8609-f286427f7421",
   "metadata": {},
   "outputs": [
    {
     "data": {
      "text/plain": [
       "\u001b[1;31mSignature:\u001b[0m \u001b[0mtwice\u001b[0m\u001b[1;33m(\u001b[0m\u001b[0mnum\u001b[0m\u001b[1;33m)\u001b[0m\u001b[1;33m\u001b[0m\u001b[1;33m\u001b[0m\u001b[0m\n",
       "\u001b[1;31mDocstring:\u001b[0m Return num * 2\n",
       "\u001b[1;31mFile:\u001b[0m      c:\\users\\public\\documents\\wondershare\\creatortemp\\ipykernel_11076\\1866866455.py\n",
       "\u001b[1;31mType:\u001b[0m      function"
      ]
     },
     "metadata": {},
     "output_type": "display_data"
    }
   ],
   "source": [
    "twice?"
   ]
  },
  {
   "cell_type": "markdown",
   "id": "8b3f4594-0076-495e-83be-f6d09304811f",
   "metadata": {},
   "source": [
    "**We can reach another level of information by reading the source code of the object we’re interested in.**"
   ]
  },
  {
   "cell_type": "code",
   "execution_count": 196,
   "id": "0bfdbc0e-c178-4aee-9497-6d1806480531",
   "metadata": {},
   "outputs": [
    {
     "data": {
      "text/plain": [
       "\u001b[1;31mSignature:\u001b[0m \u001b[0mtwice\u001b[0m\u001b[1;33m(\u001b[0m\u001b[0mnum\u001b[0m\u001b[1;33m)\u001b[0m\u001b[1;33m\u001b[0m\u001b[1;33m\u001b[0m\u001b[0m\n",
       "\u001b[1;31mSource:\u001b[0m   \n",
       "\u001b[1;32mdef\u001b[0m \u001b[0mtwice\u001b[0m\u001b[1;33m(\u001b[0m\u001b[0mnum\u001b[0m\u001b[1;33m)\u001b[0m\u001b[1;33m:\u001b[0m\u001b[1;33m\n",
       "\u001b[0m    \u001b[1;34m'''Return num * 2'''\u001b[0m\u001b[1;33m\n",
       "\u001b[0m    \u001b[1;32mreturn\u001b[0m \u001b[0mnum\u001b[0m \u001b[1;33m*\u001b[0m \u001b[1;36m2\u001b[0m\u001b[1;33m\u001b[0m\u001b[1;33m\u001b[0m\u001b[0m\n",
       "\u001b[1;31mFile:\u001b[0m      c:\\users\\public\\documents\\wondershare\\creatortemp\\ipykernel_11076\\1866866455.py\n",
       "\u001b[1;31mType:\u001b[0m      function"
      ]
     },
     "metadata": {},
     "output_type": "display_data"
    }
   ],
   "source": [
    "twice??"
   ]
  },
  {
   "cell_type": "markdown",
   "id": "ada0bebc-3a28-4a23-9881-9f63b0519d78",
   "metadata": {},
   "source": [
    "## Working with mathematical formulas"
   ]
  },
  {
   "cell_type": "markdown",
   "id": "5a93afde-8ced-4745-8dee-7bf45b223f80",
   "metadata": {},
   "source": [
    "**The ease of implementing mathematical formulas that work on arrays is one of the things that make NumPy so widely used in the scientific Python community.**"
   ]
  },
  {
   "cell_type": "markdown",
   "id": "44685d2e-524b-43ff-8200-92f5311b7f69",
   "metadata": {},
   "source": [
    "**For example, this is the mean square error formula (a central formula used in supervised machine learning models that deal with regression):**"
   ]
  },
  {
   "cell_type": "markdown",
   "id": "84c0846a-a499-4248-be6a-d968069ef0d2",
   "metadata": {},
   "source": [
    "<img src='19_MeanSquareError.PNG' width=\"700\" height=\"700\">\n"
   ]
  },
  {
   "cell_type": "markdown",
   "id": "c7348b63-fea2-474a-8d42-e58580e49664",
   "metadata": {},
   "source": [
    "**Implementing this formula is simple and straightforward in NumPy:**"
   ]
  },
  {
   "cell_type": "markdown",
   "id": "aa09f97c-b621-4f07-9365-59b70f038e45",
   "metadata": {},
   "source": [
    "<img src='20_MeanSquareErrorNumpy.PNG' width=\"700\" height=\"700\">"
   ]
  },
  {
   "cell_type": "markdown",
   "id": "806e321e-ccd4-402b-928a-48f77a840559",
   "metadata": {},
   "source": [
    "**The predictions and labels can contain one or a thousand values. They only need to be the same size.**"
   ]
  },
  {
   "cell_type": "markdown",
   "id": "f01018e7-5f3c-4a26-9208-030a0925f35d",
   "metadata": {},
   "source": [
    "**We can visualize it:**"
   ]
  },
  {
   "cell_type": "markdown",
   "id": "1cf56cad-3528-4689-b5fa-2af895575b38",
   "metadata": {},
   "source": [
    "<img src='21_MeanSquareErrorNumpyExample.PNG' width=\"700\" height=\"700\">"
   ]
  },
  {
   "cell_type": "markdown",
   "id": "bcff9166-c55d-4668-b773-1fb673537f4b",
   "metadata": {},
   "source": [
    "<img src='22_MeanSquareErrorNumpySolution.PNG' width=\"700\" height=\"700\">"
   ]
  },
  {
   "cell_type": "markdown",
   "id": "b4a1f822-197c-43c4-8b4a-5751845067a6",
   "metadata": {},
   "source": [
    "## Save and load Numpy objects"
   ]
  },
  {
   "cell_type": "markdown",
   "id": "58ed2e66-e7b2-4150-9213-42031d6337cb",
   "metadata": {},
   "source": [
    "**We may want to save our arrays to disk and load them back without having to re-run the code.**"
   ]
  },
  {
   "cell_type": "markdown",
   "id": "9bebaaab-67fb-42eb-89f2-e42d40fe2d8b",
   "metadata": {},
   "source": [
    "The ndarray objects can be saved to and loaded from the disk files with:\n",
    "  - **loadtxt** and **savetxt** functions that handle normal text files, \n",
    "  - **load** and **save** functions that handle NumPy binary files with a **.npy** file extension, and \n",
    "  - a **savez** function that handles NumPy files with a **.npz** file extension."
   ]
  },
  {
   "cell_type": "markdown",
   "id": "96ebbb99-521e-4d7f-8f53-f3f8f8f45029",
   "metadata": {},
   "source": [
    "**The .npy and .npz files store data, shape, dtype, and other information required to reconstruct the ndarray in a way that allows the array to be correctly retrieved, even when the file is on another machine with different architecture.**"
   ]
  },
  {
   "cell_type": "markdown",
   "id": "b784cd96-4048-4016-bd97-c6f81148833a",
   "metadata": {},
   "source": [
    "- If we want to store a **single** ndarray object, store it as a **.npy** file using **np.save**. \n",
    "- If we want to store **more than one** ndarray object in a single file, save it as a **.npz** file using **np.savez**. \n",
    "- We can also save several arrays into a single file in compressed **.npz** format with **savez_compressed**."
   ]
  },
  {
   "cell_type": "code",
   "execution_count": 197,
   "id": "a1798bfd-39e2-4333-aa23-f2ac8cd73aa3",
   "metadata": {},
   "outputs": [
    {
     "data": {
      "text/plain": [
       "array([1, 2, 3, 4, 5, 6])"
      ]
     },
     "execution_count": 197,
     "metadata": {},
     "output_type": "execute_result"
    }
   ],
   "source": [
    "a = np.array([1, 2, 3, 4, 5, 6])\n",
    "a"
   ]
  },
  {
   "cell_type": "markdown",
   "id": "3f5b907b-5b64-49b0-8ffa-349858d33243",
   "metadata": {},
   "source": [
    "**We can save it as “filename.npy” with:**"
   ]
  },
  {
   "cell_type": "code",
   "execution_count": 198,
   "id": "c6f4dc07-dd47-4a4b-95e1-fd9b632e36d5",
   "metadata": {},
   "outputs": [],
   "source": [
    "np.save('filename', a)"
   ]
  },
  {
   "cell_type": "markdown",
   "id": "2488bf44-019e-4eca-a313-4665ba0aefc2",
   "metadata": {},
   "source": [
    "**We can use np.load() to reconstruct our array.**"
   ]
  },
  {
   "cell_type": "code",
   "execution_count": 199,
   "id": "63af3034-b1d3-47e9-85f8-b0c4adf1c4aa",
   "metadata": {},
   "outputs": [
    {
     "data": {
      "text/plain": [
       "array([1, 2, 3, 4, 5, 6])"
      ]
     },
     "execution_count": 199,
     "metadata": {},
     "output_type": "execute_result"
    }
   ],
   "source": [
    "b = np.load('filename.npy')\n",
    "b"
   ]
  },
  {
   "cell_type": "markdown",
   "id": "3fa23573-8287-4056-90a1-e20d580e8b3a",
   "metadata": {},
   "source": [
    "**We can save a NumPy array as a plain text file like a .csv or .txt file with np.savetxt.**"
   ]
  },
  {
   "cell_type": "code",
   "execution_count": 200,
   "id": "52c058d8-df9d-4f8a-a188-5dfe486ee54b",
   "metadata": {},
   "outputs": [
    {
     "data": {
      "text/plain": [
       "array([1, 2, 3, 4, 5, 6, 7, 8])"
      ]
     },
     "execution_count": 200,
     "metadata": {},
     "output_type": "execute_result"
    }
   ],
   "source": [
    "csv_arr = np.array([1, 2, 3, 4, 5, 6, 7, 8])\n",
    "csv_arr"
   ]
  },
  {
   "cell_type": "code",
   "execution_count": 201,
   "id": "bf466cb0-581e-4903-8e3d-7d07ac048a6a",
   "metadata": {},
   "outputs": [],
   "source": [
    "np.savetxt('new_file.csv', csv_arr)"
   ]
  },
  {
   "cell_type": "markdown",
   "id": "dd8f9b95-8209-43e3-a58e-a9d9e920e24b",
   "metadata": {},
   "source": [
    "**We can quickly and easily load our saved text file using loadtxt():**"
   ]
  },
  {
   "cell_type": "code",
   "execution_count": 202,
   "id": "62348fbd-499a-4236-ab5b-4753db8ec1d8",
   "metadata": {},
   "outputs": [
    {
     "data": {
      "text/plain": [
       "array([1., 2., 3., 4., 5., 6., 7., 8.])"
      ]
     },
     "execution_count": 202,
     "metadata": {},
     "output_type": "execute_result"
    }
   ],
   "source": [
    "np.loadtxt('new_file.csv')"
   ]
  },
  {
   "cell_type": "markdown",
   "id": "c0715ba3-b544-4bfc-b23b-63c9d27b582c",
   "metadata": {},
   "source": [
    "**It’s simple to read in a CSV that contains existing information. The best and easiest way to do this is to use Pandas.**"
   ]
  },
  {
   "cell_type": "markdown",
   "id": "687b50db-afe1-48bc-8c1a-0ccc03505ed8",
   "metadata": {},
   "source": [
    "## Plotting arrays with Matplotlib"
   ]
  },
  {
   "cell_type": "markdown",
   "id": "1f9bb34a-a15f-4749-8ea0-08f75205b1c1",
   "metadata": {},
   "source": [
    "**If we need to generate a plot for our values, it’s very simple with Matplotlib.**"
   ]
  },
  {
   "cell_type": "code",
   "execution_count": 203,
   "id": "7b0161b4-afb9-4163-a697-6fe66c623cee",
   "metadata": {},
   "outputs": [
    {
     "data": {
      "text/plain": [
       "array([ 2,  1,  5,  7,  4,  6,  8, 14, 10,  9, 18, 20, 22])"
      ]
     },
     "execution_count": 203,
     "metadata": {},
     "output_type": "execute_result"
    }
   ],
   "source": [
    "a = np.array([2, 1, 5, 7, 4, 6, 8, 14, 10, 9, 18, 20, 22])\n",
    "a"
   ]
  },
  {
   "cell_type": "code",
   "execution_count": 204,
   "id": "1f7455ae-6869-455a-bf86-f522e6b37d74",
   "metadata": {},
   "outputs": [],
   "source": [
    "import matplotlib.pyplot as plt\n",
    "\n",
    "%matplotlib inline"
   ]
  },
  {
   "cell_type": "code",
   "execution_count": 205,
   "id": "a49bccbe-e63f-4519-8565-9d3342cca67d",
   "metadata": {},
   "outputs": [
    {
     "data": {
      "text/plain": [
       "[<matplotlib.lines.Line2D at 0x23f13d6b7f0>]"
      ]
     },
     "execution_count": 205,
     "metadata": {},
     "output_type": "execute_result"
    },
    {
     "data": {
      "image/png": "[encoded data removed]",
      "text/plain": [
       "<Figure size 640x480 with 1 Axes>"
      ]
     },
     "metadata": {},
     "output_type": "display_data"
    }
   ],
   "source": [
    "plt.plot(a)"
   ]
  },
  {
   "cell_type": "code",
   "execution_count": 206,
   "id": "9c373a91-a255-481d-b410-c763fecd625a",
   "metadata": {},
   "outputs": [
    {
     "data": {
      "text/plain": [
       "array([0.        , 0.26315789, 0.52631579, 0.78947368, 1.05263158,\n",
       "       1.31578947, 1.57894737, 1.84210526, 2.10526316, 2.36842105,\n",
       "       2.63157895, 2.89473684, 3.15789474, 3.42105263, 3.68421053,\n",
       "       3.94736842, 4.21052632, 4.47368421, 4.73684211, 5.        ])"
      ]
     },
     "execution_count": 206,
     "metadata": {},
     "output_type": "execute_result"
    }
   ],
   "source": [
    "x = np.linspace(0, 5, 20)\n",
    "x"
   ]
  },
  {
   "cell_type": "code",
   "execution_count": 207,
   "id": "0bfe82c3-e9e5-419c-9e02-3440117c4327",
   "metadata": {},
   "outputs": [
    {
     "data": {
      "text/plain": [
       "array([ 0.        ,  0.52631579,  1.05263158,  1.57894737,  2.10526316,\n",
       "        2.63157895,  3.15789474,  3.68421053,  4.21052632,  4.73684211,\n",
       "        5.26315789,  5.78947368,  6.31578947,  6.84210526,  7.36842105,\n",
       "        7.89473684,  8.42105263,  8.94736842,  9.47368421, 10.        ])"
      ]
     },
     "execution_count": 207,
     "metadata": {},
     "output_type": "execute_result"
    }
   ],
   "source": [
    "y = np.linspace(0, 10, 20)\n",
    "y"
   ]
  },
  {
   "cell_type": "code",
   "execution_count": 208,
   "id": "ec0ab106-beb5-44c4-a160-dca1cd9ab9e1",
   "metadata": {},
   "outputs": [
    {
     "data": {
      "text/plain": [
       "[<matplotlib.lines.Line2D at 0x23f15f975b0>]"
      ]
     },
     "execution_count": 208,
     "metadata": {},
     "output_type": "execute_result"
    },
    {
     "data": {
      "image/png": "[encoded data removed]",
      "text/plain": [
       "<Figure size 640x480 with 1 Axes>"
      ]
     },
     "metadata": {},
     "output_type": "display_data"
    }
   ],
   "source": [
    "plt.plot(x, y, 'purple') #line\n",
    "plt.plot(x, y, 'o') #dots"
   ]
  },
  {
   "cell_type": "markdown",
   "id": "0bcde0ad-6942-474d-9194-8e61cd4499c6",
   "metadata": {},
   "source": [
    "**With Matplotlib, we have access to an enormous number of visualization options.**"
   ]
  },
  {
   "cell_type": "code",
   "execution_count": 209,
   "id": "567c1da1-56e6-40d2-ab5d-c1d4f1a364e9",
   "metadata": {},
   "outputs": [
    {
     "data": {
      "text/plain": [
       "<mpl_toolkits.mplot3d.art3d.Poly3DCollection at 0x23f160178e0>"
      ]
     },
     "execution_count": 209,
     "metadata": {},
     "output_type": "execute_result"
    },
    {
     "data": {
      "image/png": "[encoded data removed]",
      "text/plain": [
       "<Figure size 640x480 with 1 Axes>"
      ]
     },
     "metadata": {},
     "output_type": "display_data"
    }
   ],
   "source": [
    "fig = plt.figure()\n",
    "ax = fig.add_subplot(projection='3d')\n",
    "X = np.arange(-5, 5, 0.15)\n",
    "Y = np.arange(-5, 5, 0.15)\n",
    "X, Y = np.meshgrid(X, Y)\n",
    "R = np.sqrt(X**2 + Y**2)\n",
    "Z = np.sin(R)\n",
    "\n",
    "ax.plot_surface(X, Y, Z, rstride=1, cstride=1, cmap='viridis')"
   ]
  }
 ],
 "metadata": {
  "kernelspec": {
   "display_name": "Python 3 (ipykernel)",
   "language": "python",
   "name": "python3"
  },
  "language_info": {
   "codemirror_mode": {
    "name": "ipython",
    "version": 3
   },
   "file_extension": ".py",
   "mimetype": "text/x-python",
   "name": "python",
   "nbconvert_exporter": "python",
   "pygments_lexer": "ipython3",
   "version": "3.10.14"
  }
 },
 "nbformat": 4,
 "nbformat_minor": 5
}
