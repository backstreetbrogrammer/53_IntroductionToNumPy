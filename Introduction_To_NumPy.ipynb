{
 "cells": [
  {
   "cell_type": "code",
   "execution_count": 9,
   "id": "1b4daf7a-7c10-4656-af26-01de69a1a780",
   "metadata": {},
   "outputs": [],
   "source": [
    "import numpy as np"
   ]
  },
  {
   "cell_type": "markdown",
   "id": "00b19af2-3a3d-4ce2-96d4-e11be8e4fdf6",
   "metadata": {},
   "source": [
    "### Array Fundamentals"
   ]
  },
  {
   "cell_type": "code",
   "execution_count": 10,
   "id": "722cbe4e-e617-4487-9ebc-d81db879c612",
   "metadata": {},
   "outputs": [
    {
     "data": {
      "text/plain": [
       "[1, 2, 3, 4, 5]"
      ]
     },
     "execution_count": 10,
     "metadata": {},
     "output_type": "execute_result"
    }
   ],
   "source": [
    "# create a new list\n",
    "my_list = [1, 2, 3, 4, 5]\n",
    "my_list"
   ]
  },
  {
   "cell_type": "code",
   "execution_count": 11,
   "id": "3a4cde2b-6fbb-4e69-a2a8-e12e9459eb7a",
   "metadata": {},
   "outputs": [
    {
     "data": {
      "text/plain": [
       "list"
      ]
     },
     "execution_count": 11,
     "metadata": {},
     "output_type": "execute_result"
    }
   ],
   "source": [
    "type(my_list)"
   ]
  },
  {
   "cell_type": "code",
   "execution_count": 12,
   "id": "bff4a10d-f1e5-4ded-a102-f1f96a7f6db2",
   "metadata": {},
   "outputs": [
    {
     "data": {
      "text/plain": [
       "array([1, 2, 3, 4, 5])"
      ]
     },
     "execution_count": 12,
     "metadata": {},
     "output_type": "execute_result"
    }
   ],
   "source": [
    "# create an ndarray using list \n",
    "my_array = np.array(my_list)\n",
    "my_array"
   ]
  },
  {
   "cell_type": "code",
   "execution_count": 13,
   "id": "24682369-6a2e-4a85-99bc-bc086a171172",
   "metadata": {},
   "outputs": [
    {
     "data": {
      "text/plain": [
       "numpy.ndarray"
      ]
     },
     "execution_count": 13,
     "metadata": {},
     "output_type": "execute_result"
    }
   ],
   "source": [
    "type(my_array)"
   ]
  },
  {
   "cell_type": "code",
   "execution_count": 14,
   "id": "85be0feb-4564-4436-b79c-e8363733e28e",
   "metadata": {},
   "outputs": [
    {
     "data": {
      "text/plain": [
       "2"
      ]
     },
     "execution_count": 14,
     "metadata": {},
     "output_type": "execute_result"
    }
   ],
   "source": [
    "# access array elements\n",
    "my_array[1]"
   ]
  },
  {
   "cell_type": "code",
   "execution_count": 15,
   "id": "4fbe6ae3-4091-4e9d-b078-97726962fce0",
   "metadata": {},
   "outputs": [
    {
     "data": {
      "text/plain": [
       "array([  1,   2, 100,   4,   5])"
      ]
     },
     "execution_count": 15,
     "metadata": {},
     "output_type": "execute_result"
    }
   ],
   "source": [
    "# ndarray is mutable, same as list\n",
    "my_array[2] = 100\n",
    "my_array"
   ]
  },
  {
   "cell_type": "code",
   "execution_count": 16,
   "id": "9b6e9acf-5605-45f4-bc05-602206ed75c0",
   "metadata": {},
   "outputs": [
    {
     "data": {
      "text/plain": [
       "array([  1,   2, 100])"
      ]
     },
     "execution_count": 16,
     "metadata": {},
     "output_type": "execute_result"
    }
   ],
   "source": [
    "# like the original list, Python slice notation can be used for indexing\n",
    "my_array[:3]"
   ]
  },
  {
   "cell_type": "code",
   "execution_count": 17,
   "id": "df284164-2fbc-462a-85da-efb6569f12a8",
   "metadata": {},
   "outputs": [
    {
     "data": {
      "text/plain": [
       "array([4, 5])"
      ]
     },
     "execution_count": 17,
     "metadata": {},
     "output_type": "execute_result"
    }
   ],
   "source": [
    "# One major difference is that slice indexing of a list \"copies\" the elements into a new list, \n",
    "# but slicing an array returns a \"view\": an object that refers to the data in the original array. \n",
    "# The original array can be mutated using the view.\n",
    "\n",
    "array2 = my_array[3:]\n",
    "array2"
   ]
  },
  {
   "cell_type": "code",
   "execution_count": 18,
   "id": "b26da7dd-c88a-46d7-9257-7b45100914a0",
   "metadata": {},
   "outputs": [
    {
     "data": {
      "text/plain": [
       "array([200,   5])"
      ]
     },
     "execution_count": 18,
     "metadata": {},
     "output_type": "execute_result"
    }
   ],
   "source": [
    "array2[0] = 200\n",
    "array2"
   ]
  },
  {
   "cell_type": "code",
   "execution_count": 19,
   "id": "ab79606e-cbed-463a-91d1-4ce8146da00e",
   "metadata": {},
   "outputs": [
    {
     "data": {
      "text/plain": [
       "array([  1,   2, 100, 200,   5])"
      ]
     },
     "execution_count": 19,
     "metadata": {},
     "output_type": "execute_result"
    }
   ],
   "source": [
    "# original array also gets modified\n",
    "\n",
    "my_array"
   ]
  },
  {
   "cell_type": "code",
   "execution_count": 20,
   "id": "7b0b4e03-8c51-49a6-9da7-4531e84f7dfa",
   "metadata": {},
   "outputs": [
    {
     "data": {
      "text/plain": [
       "[[1, 2, 3, 4], [5, 6, 7, 8], [9, 10, 11, 12]]"
      ]
     },
     "execution_count": 20,
     "metadata": {},
     "output_type": "execute_result"
    }
   ],
   "source": [
    "# 2D list\n",
    "my_list_2d = [[1,2,3,4], [5,6,7,8], [9,10,11,12]]\n",
    "my_list_2d"
   ]
  },
  {
   "cell_type": "code",
   "execution_count": 21,
   "id": "0d54cf8c-eee3-4c32-bae3-aad75b51bf6a",
   "metadata": {},
   "outputs": [
    {
     "data": {
      "text/plain": [
       "array([[ 1,  2,  3,  4],\n",
       "       [ 5,  6,  7,  8],\n",
       "       [ 9, 10, 11, 12]])"
      ]
     },
     "execution_count": 21,
     "metadata": {},
     "output_type": "execute_result"
    }
   ],
   "source": [
    "# 2D ndarray\n",
    "my_array_2d = np.array(my_list_2d)\n",
    "my_array_2d"
   ]
  },
  {
   "cell_type": "code",
   "execution_count": 22,
   "id": "ef9e250d-8537-4fb8-8606-b2dfd431bab4",
   "metadata": {},
   "outputs": [
    {
     "data": {
      "text/plain": [
       "8"
      ]
     },
     "execution_count": 22,
     "metadata": {},
     "output_type": "execute_result"
    }
   ],
   "source": [
    "# list of lists elements can be accessed by specifying indices using 2 square brackets.\n",
    "\n",
    "# my_list_2d[1,3]\n",
    "my_list_2d[1][3]"
   ]
  },
  {
   "cell_type": "code",
   "execution_count": 23,
   "id": "07f54eae-586f-4d06-bc55-104344dbc4ac",
   "metadata": {},
   "outputs": [
    {
     "data": {
      "text/plain": [
       "8"
      ]
     },
     "execution_count": 23,
     "metadata": {},
     "output_type": "execute_result"
    }
   ],
   "source": [
    "# Difference between an array and a list of lists is that an element of the array can be accessed \n",
    "# by specifying the index along each axis within a single set of square brackets, separated by commas. \n",
    "# For instance, the element 8 is in row 1 and column 3:\n",
    "\n",
    "my_array_2d[1, 3]"
   ]
  },
  {
   "cell_type": "code",
   "execution_count": 24,
   "id": "1be49553-0eb4-4efa-bf02-fc760d447df0",
   "metadata": {},
   "outputs": [],
   "source": [
    "# We might hear of a 0-D (zero-dimensional) array referred to as a “scalar”, \n",
    "# a 1-D (one-dimensional) array as a “vector”, \n",
    "# a 2-D (two-dimensional) array as a “matrix”, \n",
    "# or an N-D (N-dimensional, where “N” is typically an integer greater than 2) array as a “tensor”. \n",
    "\n",
    "# For clarity, it is best to avoid the mathematical terms when referring to an array \n",
    "# because the mathematical objects with these names behave differently than arrays \n",
    "# (e.g. “matrix” multiplication is fundamentally different from “array” multiplication), \n",
    "# and there are other objects in the scientific Python ecosystem that have these names \n",
    "# (e.g. the fundamental data structure of PyTorch is the “tensor”)."
   ]
  },
  {
   "cell_type": "markdown",
   "id": "c91b3148-e854-44be-a29b-bd45038d72e1",
   "metadata": {},
   "source": [
    "### Array attributes"
   ]
  },
  {
   "cell_type": "code",
   "execution_count": 25,
   "id": "bfaf9162-0820-4cb8-bba0-4de54d383aaf",
   "metadata": {},
   "outputs": [],
   "source": [
    "# lets discuss about array attributes: ndim, shape, size, dtype"
   ]
  },
  {
   "cell_type": "code",
   "execution_count": 26,
   "id": "fca3871a-9002-4904-869b-2825335c3048",
   "metadata": {},
   "outputs": [
    {
     "data": {
      "text/plain": [
       "2"
      ]
     },
     "execution_count": 26,
     "metadata": {},
     "output_type": "execute_result"
    }
   ],
   "source": [
    "# ndim\n",
    "# The number of dimensions of an array is contained in the ndim attribute.\n",
    "\n",
    "my_array_2d.ndim"
   ]
  },
  {
   "cell_type": "code",
   "execution_count": 27,
   "id": "7e117966-a8eb-4fdf-bfb7-8bf38d72c5f5",
   "metadata": {},
   "outputs": [
    {
     "data": {
      "text/plain": [
       "1"
      ]
     },
     "execution_count": 27,
     "metadata": {},
     "output_type": "execute_result"
    }
   ],
   "source": [
    "my_array.ndim"
   ]
  },
  {
   "cell_type": "code",
   "execution_count": 28,
   "id": "39186a5c-116e-4411-9696-1e77369de391",
   "metadata": {},
   "outputs": [
    {
     "data": {
      "text/plain": [
       "(3, 4)"
      ]
     },
     "execution_count": 28,
     "metadata": {},
     "output_type": "execute_result"
    }
   ],
   "source": [
    "# shape\n",
    "# The shape of an array is a tuple of non-negative integers that specify the number of elements along each dimension.\n",
    "\n",
    "my_array_2d.shape"
   ]
  },
  {
   "cell_type": "code",
   "execution_count": 29,
   "id": "92e694a8-ad5e-47b6-ba40-8971f6f662dd",
   "metadata": {},
   "outputs": [
    {
     "data": {
      "text/plain": [
       "(5,)"
      ]
     },
     "execution_count": 29,
     "metadata": {},
     "output_type": "execute_result"
    }
   ],
   "source": [
    "my_array.shape"
   ]
  },
  {
   "cell_type": "code",
   "execution_count": 30,
   "id": "27f2454e-4517-480f-8dca-8f96bbdc7abc",
   "metadata": {},
   "outputs": [
    {
     "data": {
      "text/plain": [
       "True"
      ]
     },
     "execution_count": 30,
     "metadata": {},
     "output_type": "execute_result"
    }
   ],
   "source": [
    "len(my_array_2d.shape) == my_array_2d.ndim"
   ]
  },
  {
   "cell_type": "code",
   "execution_count": 31,
   "id": "55991ace-1f72-494e-a311-d099a1cd24fb",
   "metadata": {},
   "outputs": [
    {
     "data": {
      "text/plain": [
       "True"
      ]
     },
     "execution_count": 31,
     "metadata": {},
     "output_type": "execute_result"
    }
   ],
   "source": [
    "len(my_array.shape) == my_array.ndim"
   ]
  },
  {
   "cell_type": "code",
   "execution_count": 32,
   "id": "f74f7214-ffaf-4d98-95b7-395e5e847f58",
   "metadata": {},
   "outputs": [
    {
     "data": {
      "text/plain": [
       "12"
      ]
     },
     "execution_count": 32,
     "metadata": {},
     "output_type": "execute_result"
    }
   ],
   "source": [
    "# size\n",
    "# The fixed, total number of elements in array is contained in the size attribute.\n",
    "\n",
    "my_array_2d.size"
   ]
  },
  {
   "cell_type": "code",
   "execution_count": 33,
   "id": "624dc8bb-2ce3-4e37-9bdc-569292bbda66",
   "metadata": {},
   "outputs": [
    {
     "data": {
      "text/plain": [
       "5"
      ]
     },
     "execution_count": 33,
     "metadata": {},
     "output_type": "execute_result"
    }
   ],
   "source": [
    "my_array.size"
   ]
  },
  {
   "cell_type": "code",
   "execution_count": 34,
   "id": "1cb9363f-d91f-4fae-96bf-e8bf97fd444a",
   "metadata": {},
   "outputs": [],
   "source": [
    "import math"
   ]
  },
  {
   "cell_type": "code",
   "execution_count": 35,
   "id": "3d2cfbab-156e-4b69-9a26-ba70eb96bea1",
   "metadata": {},
   "outputs": [
    {
     "data": {
      "text/plain": [
       "True"
      ]
     },
     "execution_count": 35,
     "metadata": {},
     "output_type": "execute_result"
    }
   ],
   "source": [
    "my_array_2d.size == math.prod(my_array_2d.shape)"
   ]
  },
  {
   "cell_type": "code",
   "execution_count": 36,
   "id": "3782a244-898e-4f6a-bb09-9dc8b94d8867",
   "metadata": {},
   "outputs": [
    {
     "data": {
      "text/plain": [
       "True"
      ]
     },
     "execution_count": 36,
     "metadata": {},
     "output_type": "execute_result"
    }
   ],
   "source": [
    "my_array.size == math.prod(my_array.shape)"
   ]
  },
  {
   "cell_type": "code",
   "execution_count": 37,
   "id": "072b40e4-8e7c-4db7-b58f-87bda4beb42a",
   "metadata": {},
   "outputs": [
    {
     "data": {
      "text/plain": [
       "dtype('int32')"
      ]
     },
     "execution_count": 37,
     "metadata": {},
     "output_type": "execute_result"
    }
   ],
   "source": [
    "# dtype\n",
    "# Arrays are typically “homogeneous”, meaning that they contain elements of only one “data type”. \n",
    "# The data type is recorded in the dtype attribute.\n",
    "\n",
    "my_array_2d.dtype"
   ]
  },
  {
   "cell_type": "code",
   "execution_count": 38,
   "id": "0ff7f9e7-cf70-4a50-95c5-23a5f7c2d120",
   "metadata": {},
   "outputs": [
    {
     "data": {
      "text/plain": [
       "dtype('int32')"
      ]
     },
     "execution_count": 38,
     "metadata": {},
     "output_type": "execute_result"
    }
   ],
   "source": [
    "my_array.dtype"
   ]
  },
  {
   "cell_type": "markdown",
   "id": "1dd468c8-a0a5-47a1-add9-0a8b5f1bf6f1",
   "metadata": {},
   "source": [
    "### Create a basic array"
   ]
  },
  {
   "cell_type": "code",
   "execution_count": 39,
   "id": "afd6cf31-380c-43a2-8341-d1ab0377c23d",
   "metadata": {},
   "outputs": [],
   "source": [
    "# lets discuss about np.zeros(), np.ones(), np.empty(), np.arange(), np.linspace()"
   ]
  },
  {
   "cell_type": "code",
   "execution_count": 40,
   "id": "45c9d978-5144-4c47-81d1-848ace9074a9",
   "metadata": {},
   "outputs": [
    {
     "data": {
      "text/plain": [
       "array([0., 0., 0.])"
      ]
     },
     "execution_count": 40,
     "metadata": {},
     "output_type": "execute_result"
    }
   ],
   "source": [
    "# np.zeros()\n",
    "# Besides creating an array from a sequence of elements, you can easily create an array filled with 0’s:\n",
    "\n",
    "np.zeros(3)"
   ]
  },
  {
   "cell_type": "code",
   "execution_count": 41,
   "id": "bc0c4918-c6d1-4a8a-aeea-eec1b76a42d3",
   "metadata": {},
   "outputs": [
    {
     "data": {
      "text/plain": [
       "array([1., 1., 1.])"
      ]
     },
     "execution_count": 41,
     "metadata": {},
     "output_type": "execute_result"
    }
   ],
   "source": [
    "# np.ones()\n",
    "# Besides creating an array from a sequence of elements, you can easily create an array filled with 1’s:\n",
    "\n",
    "np.ones(3)"
   ]
  },
  {
   "cell_type": "code",
   "execution_count": 42,
   "id": "209467d4-b9e6-45ff-a1ff-6842fe44c773",
   "metadata": {},
   "outputs": [
    {
     "data": {
      "text/plain": [
       "array([1., 1., 1.])"
      ]
     },
     "execution_count": 42,
     "metadata": {},
     "output_type": "execute_result"
    }
   ],
   "source": [
    "# np.empty()\n",
    "# The function empty creates an array whose initial content is random and depends on the state of the memory. \n",
    "# The reason to use empty over zeros (or something similar) is speed - just make sure to fill every element afterwards!\n",
    "\n",
    "np.empty(3)"
   ]
  },
  {
   "cell_type": "code",
   "execution_count": 43,
   "id": "d874d0ea-4e92-4aed-9c8d-0ba5012e54ba",
   "metadata": {},
   "outputs": [
    {
     "data": {
      "text/plain": [
       "array([0, 1, 2, 3, 4])"
      ]
     },
     "execution_count": 43,
     "metadata": {},
     "output_type": "execute_result"
    }
   ],
   "source": [
    "# np.arange()\n",
    "# We can create an array with a range of elements:\n",
    "\n",
    "np.arange(5)"
   ]
  },
  {
   "cell_type": "code",
   "execution_count": 44,
   "id": "af6adedd-6aac-4575-b7ee-8186ecdfd0ce",
   "metadata": {},
   "outputs": [
    {
     "data": {
      "text/plain": [
       "array([ 2,  4,  6,  8, 10])"
      ]
     },
     "execution_count": 44,
     "metadata": {},
     "output_type": "execute_result"
    }
   ],
   "source": [
    "# And even an array that contains a range of evenly spaced intervals. \n",
    "# To do this, we will specify the first number, last number, and the step size.\n",
    "\n",
    "np.arange(2, 11, 2)"
   ]
  },
  {
   "cell_type": "code",
   "execution_count": 45,
   "id": "5d66f3af-2a91-4e27-8ce2-8198f25c395a",
   "metadata": {},
   "outputs": [
    {
     "data": {
      "text/plain": [
       "array([ 0. ,  2.5,  5. ,  7.5, 10. ])"
      ]
     },
     "execution_count": 45,
     "metadata": {},
     "output_type": "execute_result"
    }
   ],
   "source": [
    "# np.linspace()\n",
    "# We can use np.linspace() to create an array with values that are spaced linearly in a specified interval:\n",
    "\n",
    "np.linspace(0, 10, num=5)"
   ]
  },
  {
   "cell_type": "code",
   "execution_count": 46,
   "id": "93ecdc44-0317-43a2-b54d-83d2d005b27a",
   "metadata": {},
   "outputs": [
    {
     "data": {
      "text/plain": [
       "array([ 0.        ,  1.42857143,  2.85714286,  4.28571429,  5.71428571,\n",
       "        7.14285714,  8.57142857, 10.        ])"
      ]
     },
     "execution_count": 46,
     "metadata": {},
     "output_type": "execute_result"
    }
   ],
   "source": [
    "np.linspace(0, 10, num=8)"
   ]
  },
  {
   "cell_type": "code",
   "execution_count": 47,
   "id": "98503655-6def-42a8-a586-81ca1f8a30c0",
   "metadata": {},
   "outputs": [
    {
     "data": {
      "text/plain": [
       "array([1, 1], dtype=int64)"
      ]
     },
     "execution_count": 47,
     "metadata": {},
     "output_type": "execute_result"
    }
   ],
   "source": [
    "# While the default data type is floating point (np.float64), \n",
    "# we can explicitly specify which data type we want using the dtype keyword.\n",
    "\n",
    "x = np.ones(2, dtype=np.int64)\n",
    "x"
   ]
  },
  {
   "cell_type": "markdown",
   "id": "512664ad-a3fb-4fda-ad7c-c30ae9c46f56",
   "metadata": {},
   "source": [
    "### Adding, removing, and sorting elements"
   ]
  },
  {
   "cell_type": "code",
   "execution_count": 48,
   "id": "a15c63e8-e325-45ad-b44c-1091f0ae6988",
   "metadata": {},
   "outputs": [],
   "source": [
    "# lets discuss np.sort(), np.concatenate()"
   ]
  },
  {
   "cell_type": "code",
   "execution_count": 49,
   "id": "e5d53389-f845-416d-8962-32c8859a736c",
   "metadata": {},
   "outputs": [
    {
     "data": {
      "text/plain": [
       "array([2, 1, 5, 3, 7, 4, 6, 8])"
      ]
     },
     "execution_count": 49,
     "metadata": {},
     "output_type": "execute_result"
    }
   ],
   "source": [
    "# np.sort()\n",
    "# Sorting an element is simple with np.sort(). \n",
    "# We can specify the axis, kind, and order when we call the function.\n",
    "\n",
    "arr = np.array([2, 1, 5, 3, 7, 4, 6, 8])\n",
    "arr"
   ]
  },
  {
   "cell_type": "code",
   "execution_count": 50,
   "id": "453ba45e-1261-444b-b759-453cb6e1fe5a",
   "metadata": {},
   "outputs": [
    {
     "data": {
      "text/plain": [
       "array([1, 2, 3, 4, 5, 6, 7, 8])"
      ]
     },
     "execution_count": 50,
     "metadata": {},
     "output_type": "execute_result"
    }
   ],
   "source": [
    "np.sort(arr)"
   ]
  },
  {
   "cell_type": "code",
   "execution_count": 51,
   "id": "ef6878ad-c22b-4a0e-88bf-f7c73dcf6675",
   "metadata": {},
   "outputs": [
    {
     "data": {
      "text/plain": [
       "array([1, 2, 3, 4])"
      ]
     },
     "execution_count": 51,
     "metadata": {},
     "output_type": "execute_result"
    }
   ],
   "source": [
    "# np.concatenate()\n",
    "# Used for concatenating 2 arrays\n",
    "\n",
    "a = np.array([1, 2, 3, 4])\n",
    "a"
   ]
  },
  {
   "cell_type": "code",
   "execution_count": 52,
   "id": "bd06fa14-f6d7-4e9b-a4fe-25869c48d741",
   "metadata": {},
   "outputs": [
    {
     "data": {
      "text/plain": [
       "array([5, 6, 7, 8])"
      ]
     },
     "execution_count": 52,
     "metadata": {},
     "output_type": "execute_result"
    }
   ],
   "source": [
    "b = np.array([5, 6, 7, 8])\n",
    "b"
   ]
  },
  {
   "cell_type": "code",
   "execution_count": 53,
   "id": "9c55944d-1ae8-4d62-b991-eeb40119ed2d",
   "metadata": {},
   "outputs": [
    {
     "data": {
      "text/plain": [
       "array([1, 2, 3, 4, 5, 6, 7, 8])"
      ]
     },
     "execution_count": 53,
     "metadata": {},
     "output_type": "execute_result"
    }
   ],
   "source": [
    "np.concatenate((a,b))"
   ]
  },
  {
   "cell_type": "code",
   "execution_count": 54,
   "id": "8960eacb-73a0-4030-8a3f-2104d482fc1d",
   "metadata": {},
   "outputs": [
    {
     "data": {
      "text/plain": [
       "array([[1, 2],\n",
       "       [3, 4]])"
      ]
     },
     "execution_count": 54,
     "metadata": {},
     "output_type": "execute_result"
    }
   ],
   "source": [
    "x = np.array([[1, 2], [3, 4]])\n",
    "x"
   ]
  },
  {
   "cell_type": "code",
   "execution_count": 55,
   "id": "67c4c001-e6b0-4807-a316-364a6bb414e8",
   "metadata": {},
   "outputs": [
    {
     "data": {
      "text/plain": [
       "array([[5, 6]])"
      ]
     },
     "execution_count": 55,
     "metadata": {},
     "output_type": "execute_result"
    }
   ],
   "source": [
    "y = np.array([[5, 6]])\n",
    "y"
   ]
  },
  {
   "cell_type": "code",
   "execution_count": 56,
   "id": "c3929e28-86c2-473b-8bac-6d5a343117ee",
   "metadata": {},
   "outputs": [
    {
     "data": {
      "text/plain": [
       "array([[1, 2],\n",
       "       [3, 4],\n",
       "       [5, 6]])"
      ]
     },
     "execution_count": 56,
     "metadata": {},
     "output_type": "execute_result"
    }
   ],
   "source": [
    "np.concatenate((x, y), axis=0)"
   ]
  },
  {
   "cell_type": "code",
   "execution_count": 57,
   "id": "7d97f77f-f70f-4256-8275-dc6cd2d6c2d6",
   "metadata": {},
   "outputs": [
    {
     "data": {
      "text/plain": [
       "array([[1, 2],\n",
       "       [3, 4],\n",
       "       [5, 6]])"
      ]
     },
     "execution_count": 57,
     "metadata": {},
     "output_type": "execute_result"
    }
   ],
   "source": [
    "np.concatenate((x, y))"
   ]
  },
  {
   "cell_type": "markdown",
   "id": "499fc7aa-863e-4ade-93db-2ea8d65b7a00",
   "metadata": {},
   "source": [
    "### Reshape an array"
   ]
  },
  {
   "cell_type": "code",
   "execution_count": 58,
   "id": "6dca92ab-6729-41ab-8b55-0a3fb40e86c1",
   "metadata": {},
   "outputs": [],
   "source": [
    "# reshape()\n",
    "# Using arr.reshape() will give a new shape to an array without changing the data. \n",
    "# Just remember that when we use the reshape method, the array we want to produce needs to have \n",
    "# the same number of elements as the original array. \n",
    "# If you start with an array with 12 elements, we’ll need to make sure that \n",
    "# our new array also has a total of 12 elements."
   ]
  },
  {
   "cell_type": "code",
   "execution_count": 59,
   "id": "fe7a6fd0-16b0-44d7-a2d9-0c5b685d2fb8",
   "metadata": {},
   "outputs": [
    {
     "data": {
      "text/plain": [
       "array([0, 1, 2, 3, 4, 5])"
      ]
     },
     "execution_count": 59,
     "metadata": {},
     "output_type": "execute_result"
    }
   ],
   "source": [
    "a = np.arange(6)\n",
    "a"
   ]
  },
  {
   "cell_type": "code",
   "execution_count": 60,
   "id": "da111150-8f9f-458d-92dd-6e3fbc521ab9",
   "metadata": {},
   "outputs": [
    {
     "data": {
      "text/plain": [
       "array([[0, 1],\n",
       "       [2, 3],\n",
       "       [4, 5]])"
      ]
     },
     "execution_count": 60,
     "metadata": {},
     "output_type": "execute_result"
    }
   ],
   "source": [
    "# we can reshape this array to an array with three rows and two columns:\n",
    "b = a.reshape(3, 2)\n",
    "b"
   ]
  },
  {
   "cell_type": "markdown",
   "id": "4639a0e9-7590-40d3-8b44-21f650649f0d",
   "metadata": {},
   "source": [
    "### Convert 1D array to 2D array"
   ]
  },
  {
   "cell_type": "code",
   "execution_count": 61,
   "id": "019381c4-de25-493e-a5ab-d3033ec89203",
   "metadata": {},
   "outputs": [],
   "source": [
    "# lets discuss about np.newaxis, np.expand_dims"
   ]
  },
  {
   "cell_type": "code",
   "execution_count": 62,
   "id": "cf84b954-7502-4124-978f-a28b3a9c55e3",
   "metadata": {},
   "outputs": [],
   "source": [
    "# np.newaxis\n",
    "# This will increase the dimensions of our array by one dimension when used once.\n",
    "# This means that a 1D array will become a 2D array, a 2D array will become a 3D array, and so on."
   ]
  },
  {
   "cell_type": "code",
   "execution_count": 63,
   "id": "106fc644-20ea-4441-95a5-2f1e68c70552",
   "metadata": {},
   "outputs": [
    {
     "data": {
      "text/plain": [
       "array([1, 2, 3, 4, 5, 6])"
      ]
     },
     "execution_count": 63,
     "metadata": {},
     "output_type": "execute_result"
    }
   ],
   "source": [
    "a = np.arange(1,7)\n",
    "a"
   ]
  },
  {
   "cell_type": "code",
   "execution_count": 64,
   "id": "abd3b9f2-b602-4071-9217-048285fd172e",
   "metadata": {},
   "outputs": [
    {
     "data": {
      "text/plain": [
       "(6,)"
      ]
     },
     "execution_count": 64,
     "metadata": {},
     "output_type": "execute_result"
    }
   ],
   "source": [
    "a.shape"
   ]
  },
  {
   "cell_type": "code",
   "execution_count": 65,
   "id": "6be23e12-d80b-4c1d-b7d3-f2511e175db4",
   "metadata": {},
   "outputs": [
    {
     "data": {
      "text/plain": [
       "array([[1, 2, 3, 4, 5, 6]])"
      ]
     },
     "execution_count": 65,
     "metadata": {},
     "output_type": "execute_result"
    }
   ],
   "source": [
    "# We can convert a 1D array to a row vector by inserting an axis along the first dimension:\n",
    "\n",
    "row_vector = a[np.newaxis, :]\n",
    "row_vector"
   ]
  },
  {
   "cell_type": "code",
   "execution_count": 66,
   "id": "95bd7b01-65b8-446f-acfc-cdeeebe6e6c7",
   "metadata": {},
   "outputs": [
    {
     "data": {
      "text/plain": [
       "(1, 6)"
      ]
     },
     "execution_count": 66,
     "metadata": {},
     "output_type": "execute_result"
    }
   ],
   "source": [
    "row_vector.shape"
   ]
  },
  {
   "cell_type": "code",
   "execution_count": 67,
   "id": "8a5d410c-5b5e-4d5b-97cc-6ea73fe8ddd4",
   "metadata": {},
   "outputs": [
    {
     "data": {
      "text/plain": [
       "array([[1],\n",
       "       [2],\n",
       "       [3],\n",
       "       [4],\n",
       "       [5],\n",
       "       [6]])"
      ]
     },
     "execution_count": 67,
     "metadata": {},
     "output_type": "execute_result"
    }
   ],
   "source": [
    "# for a column vector, we can insert an axis along the second dimension:\n",
    "\n",
    "col_vector = a[:, np.newaxis]\n",
    "col_vector"
   ]
  },
  {
   "cell_type": "code",
   "execution_count": 68,
   "id": "44bbeb67-4ed5-4475-bd8c-c04354b7e811",
   "metadata": {},
   "outputs": [
    {
     "data": {
      "text/plain": [
       "(6, 1)"
      ]
     },
     "execution_count": 68,
     "metadata": {},
     "output_type": "execute_result"
    }
   ],
   "source": [
    "col_vector.shape"
   ]
  },
  {
   "cell_type": "code",
   "execution_count": 69,
   "id": "0456fdce-0440-49de-8f02-75692c669928",
   "metadata": {},
   "outputs": [],
   "source": [
    "# np.expand_dims\n",
    "# We can also expand an array by inserting a new axis at a specified position"
   ]
  },
  {
   "cell_type": "code",
   "execution_count": 70,
   "id": "f2eda675-23b2-4bc2-bfd0-3f7788c4a3cb",
   "metadata": {},
   "outputs": [
    {
     "data": {
      "text/plain": [
       "array([1, 2, 3, 4, 5, 6])"
      ]
     },
     "execution_count": 70,
     "metadata": {},
     "output_type": "execute_result"
    }
   ],
   "source": [
    "a = np.arange(1,7)\n",
    "a"
   ]
  },
  {
   "cell_type": "code",
   "execution_count": 71,
   "id": "2538e998-7d2a-441f-84cc-dbd8e0a48673",
   "metadata": {},
   "outputs": [
    {
     "data": {
      "text/plain": [
       "(6,)"
      ]
     },
     "execution_count": 71,
     "metadata": {},
     "output_type": "execute_result"
    }
   ],
   "source": [
    "a.shape"
   ]
  },
  {
   "cell_type": "code",
   "execution_count": 74,
   "id": "75c862ea-01c2-485b-95c8-a3cf0feca212",
   "metadata": {},
   "outputs": [
    {
     "data": {
      "text/plain": [
       "array([[1, 2, 3, 4, 5, 6]])"
      ]
     },
     "execution_count": 74,
     "metadata": {},
     "output_type": "execute_result"
    }
   ],
   "source": [
    "# We can use np.expand_dims to add an axis at index position 0 with:\n",
    "\n",
    "b = np.expand_dims(a, axis=0)\n",
    "b"
   ]
  },
  {
   "cell_type": "code",
   "execution_count": 75,
   "id": "fd26e284-8907-40e8-93a3-a41953633b68",
   "metadata": {},
   "outputs": [
    {
     "data": {
      "text/plain": [
       "(1, 6)"
      ]
     },
     "execution_count": 75,
     "metadata": {},
     "output_type": "execute_result"
    }
   ],
   "source": [
    "b.shape"
   ]
  },
  {
   "cell_type": "code",
   "execution_count": 76,
   "id": "b6bd3d3a-0477-4320-a461-d0246dad5abf",
   "metadata": {},
   "outputs": [
    {
     "data": {
      "text/plain": [
       "array([[1],\n",
       "       [2],\n",
       "       [3],\n",
       "       [4],\n",
       "       [5],\n",
       "       [6]])"
      ]
     },
     "execution_count": 76,
     "metadata": {},
     "output_type": "execute_result"
    }
   ],
   "source": [
    "# similarly for index position 1:\n",
    "\n",
    "c = np.expand_dims(a, axis=1)\n",
    "c"
   ]
  },
  {
   "cell_type": "code",
   "execution_count": 77,
   "id": "ada8d694-8060-4a45-a9cc-2ac98771900a",
   "metadata": {},
   "outputs": [
    {
     "data": {
      "text/plain": [
       "(6, 1)"
      ]
     },
     "execution_count": 77,
     "metadata": {},
     "output_type": "execute_result"
    }
   ],
   "source": [
    "c.shape"
   ]
  },
  {
   "cell_type": "markdown",
   "id": "ab345a62-c234-461f-b0e3-f56fc7827165",
   "metadata": {},
   "source": [
    "### Indexing and Slicing"
   ]
  },
  {
   "cell_type": "code",
   "execution_count": null,
   "id": "f1aa5a11-416e-4135-891a-a08fea30572e",
   "metadata": {},
   "outputs": [],
   "source": []
  }
 ],
 "metadata": {
  "kernelspec": {
   "display_name": "Python 3 (ipykernel)",
   "language": "python",
   "name": "python3"
  },
  "language_info": {
   "codemirror_mode": {
    "name": "ipython",
    "version": 3
   },
   "file_extension": ".py",
   "mimetype": "text/x-python",
   "name": "python",
   "nbconvert_exporter": "python",
   "pygments_lexer": "ipython3",
   "version": "3.10.14"
  }
 },
 "nbformat": 4,
 "nbformat_minor": 5
}
